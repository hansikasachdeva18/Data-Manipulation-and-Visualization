{
  "nbformat": 4,
  "nbformat_minor": 0,
  "metadata": {
    "colab": {
      "name": "Lab_1_(a)_E20CSE119_Hansika Sachdeva_EB09.ipynb",
      "provenance": [],
      "collapsed_sections": []
    },
    "kernelspec": {
      "name": "python3",
      "display_name": "Python 3"
    },
    "language_info": {
      "name": "python"
    }
  },
  "cells": [
    {
      "cell_type": "markdown",
      "metadata": {
        "id": "YuIXPk6E6auf"
      },
      "source": [
        " **Question 1 (a)**  Importing all the necessary libraries"
      ]
    },
    {
      "cell_type": "code",
      "metadata": {
        "id": "C4e8kpylI5Ca"
      },
      "source": [
        "import pandas as pd\n",
        "import numpy as np\n",
        "import matplotlib.pyplot as plt\n",
        "import seaborn as sns\n",
        "from sklearn.impute import SimpleImputer\n",
        "from sklearn.preprocessing import LabelEncoder\n",
        "from sklearn.model_selection import train_test_split\n",
        "from sklearn.preprocessing import StandardScaler\n",
        "from sklearn.preprocessing import MinMaxScaler"
      ],
      "execution_count": null,
      "outputs": []
    },
    {
      "cell_type": "markdown",
      "metadata": {
        "id": "we_ReAyj6Xlt"
      },
      "source": [
        "**(b) Importing the Dataset**"
      ]
    },
    {
      "cell_type": "code",
      "metadata": {
        "colab": {
          "resources": {
            "http://localhost:8080/nbextensions/google.colab/files.js": {
              "data": "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",
              "ok": true,
              "headers": [
                [
                  "content-type",
                  "application/javascript"
                ]
              ],
              "status": 200,
              "status_text": ""
            }
          },
          "base_uri": "https://localhost:8080/",
          "height": 73
        },
        "id": "FGtoa5O9JcLd",
        "outputId": "45f3b28c-dc89-4e77-d4e1-959e48f0298e"
      },
      "source": [
        "from google.colab import files\n",
        "uploaded=files.upload()"
      ],
      "execution_count": null,
      "outputs": [
        {
          "output_type": "display_data",
          "data": {
            "text/html": [
              "\n",
              "     <input type=\"file\" id=\"files-c8dfb64a-2116-4082-8134-62ef26bd0b0a\" name=\"files[]\" multiple disabled\n",
              "        style=\"border:none\" />\n",
              "     <output id=\"result-c8dfb64a-2116-4082-8134-62ef26bd0b0a\">\n",
              "      Upload widget is only available when the cell has been executed in the\n",
              "      current browser session. Please rerun this cell to enable.\n",
              "      </output>\n",
              "      <script src=\"/nbextensions/google.colab/files.js\"></script> "
            ],
            "text/plain": [
              "<IPython.core.display.HTML object>"
            ]
          },
          "metadata": {}
        },
        {
          "output_type": "stream",
          "name": "stdout",
          "text": [
            "Saving DP_Artifical.csv to DP_Artifical.csv\n"
          ]
        }
      ]
    },
    {
      "cell_type": "code",
      "metadata": {
        "id": "U-XcPpLOWy5g",
        "colab": {
          "base_uri": "https://localhost:8080/"
        },
        "outputId": "038e3f41-7c2e-4417-9539-d8931eb17403"
      },
      "source": [
        "df=pd.read_csv(\"DP_Artifical.csv\")\n",
        "df.info()"
      ],
      "execution_count": null,
      "outputs": [
        {
          "output_type": "stream",
          "name": "stdout",
          "text": [
            "<class 'pandas.core.frame.DataFrame'>\n",
            "RangeIndex: 19 entries, 0 to 18\n",
            "Data columns (total 7 columns):\n",
            " #   Column          Non-Null Count  Dtype  \n",
            "---  ------          --------------  -----  \n",
            " 0   Region          19 non-null     object \n",
            " 1   Age             16 non-null     float64\n",
            " 2   Income          18 non-null     float64\n",
            " 3   Online Shopper  19 non-null     object \n",
            " 4   Passport        19 non-null     object \n",
            " 5   Health          19 non-null     int64  \n",
            " 6   Food            19 non-null     object \n",
            "dtypes: float64(2), int64(1), object(4)\n",
            "memory usage: 1.2+ KB\n"
          ]
        }
      ]
    },
    {
      "cell_type": "code",
      "metadata": {
        "colab": {
          "base_uri": "https://localhost:8080/"
        },
        "id": "iG_qJCdxi33P",
        "outputId": "4bccc38e-ccf3-4f02-9474-c28c23bc3809"
      },
      "source": [
        "print(df.head())\n"
      ],
      "execution_count": null,
      "outputs": [
        {
          "output_type": "stream",
          "name": "stdout",
          "text": [
            "   Region   Age   Income Online Shopper Passport  Health    Food\n",
            "0   India  49.0  86400.0             No      yes       1     veg\n",
            "1  Brazil  32.0  57600.0            Yes       no       2  nonveg\n",
            "2     USA  35.0  64800.0             No       no       3     veg\n",
            "3  Brazil  43.0  73200.0             No      yes       2     veg\n",
            "4     USA  45.0      NaN            Yes      yes       2     veg\n"
          ]
        }
      ]
    },
    {
      "cell_type": "code",
      "metadata": {
        "colab": {
          "base_uri": "https://localhost:8080/"
        },
        "id": "SsUA3Sxtkda-",
        "outputId": "46aeeabe-da1e-4f3e-d591-fd92320e5246"
      },
      "source": [
        "print(df.isnull())"
      ],
      "execution_count": null,
      "outputs": [
        {
          "output_type": "stream",
          "name": "stdout",
          "text": [
            "    Region    Age  Income  Online Shopper  Passport  Health   Food\n",
            "0    False  False   False           False     False   False  False\n",
            "1    False  False   False           False     False   False  False\n",
            "2    False  False   False           False     False   False  False\n",
            "3    False  False   False           False     False   False  False\n",
            "4    False  False    True           False     False   False  False\n",
            "5    False  False   False           False     False   False  False\n",
            "6    False   True   False           False     False   False  False\n",
            "7    False  False   False           False     False   False  False\n",
            "8    False  False   False           False     False   False  False\n",
            "9    False  False   False           False     False   False  False\n",
            "10   False  False   False           False     False   False  False\n",
            "11   False  False   False           False     False   False  False\n",
            "12   False  False   False           False     False   False  False\n",
            "13   False  False   False           False     False   False  False\n",
            "14   False   True   False           False     False   False  False\n",
            "15   False  False   False           False     False   False  False\n",
            "16   False  False   False           False     False   False  False\n",
            "17   False  False   False           False     False   False  False\n",
            "18   False   True   False           False     False   False  False\n"
          ]
        }
      ]
    },
    {
      "cell_type": "code",
      "metadata": {
        "colab": {
          "base_uri": "https://localhost:8080/"
        },
        "id": "FDLH8jMGkkQO",
        "outputId": "b944e9cd-236e-4721-f7af-7214f1197a7d"
      },
      "source": [
        "print(df.isnull().sum())"
      ],
      "execution_count": null,
      "outputs": [
        {
          "output_type": "stream",
          "name": "stdout",
          "text": [
            "Region            0\n",
            "Age               3\n",
            "Income            1\n",
            "Online Shopper    0\n",
            "Passport          0\n",
            "Health            0\n",
            "Food              0\n",
            "dtype: int64\n"
          ]
        }
      ]
    },
    {
      "cell_type": "code",
      "metadata": {
        "colab": {
          "base_uri": "https://localhost:8080/"
        },
        "id": "iA7OW7Juko4g",
        "outputId": "c7c956a9-94ee-42c6-85f1-7d3e10ba2297"
      },
      "source": [
        "print(df.shape)"
      ],
      "execution_count": null,
      "outputs": [
        {
          "output_type": "stream",
          "name": "stdout",
          "text": [
            "(19, 7)\n"
          ]
        }
      ]
    },
    {
      "cell_type": "code",
      "metadata": {
        "colab": {
          "base_uri": "https://localhost:8080/"
        },
        "id": "9pQxtApHksbc",
        "outputId": "49504981-283b-4f5f-d65f-ef7c558db14b"
      },
      "source": [
        "print(df.columns)"
      ],
      "execution_count": null,
      "outputs": [
        {
          "output_type": "stream",
          "name": "stdout",
          "text": [
            "Index(['Region', 'Age', 'Income', 'Online Shopper', 'Passport', 'Health',\n",
            "       'Food'],\n",
            "      dtype='object')\n"
          ]
        }
      ]
    },
    {
      "cell_type": "code",
      "metadata": {
        "colab": {
          "base_uri": "https://localhost:8080/"
        },
        "id": "riCw9bGDldgH",
        "outputId": "0566e980-09bb-46a7-e235-7921eaae9094"
      },
      "source": [
        "df[\"Age\"]=df[\"Age\"].fillna(df[\"Age\"].mean())\n",
        "print(df.info)\n"
      ],
      "execution_count": null,
      "outputs": [
        {
          "output_type": "stream",
          "name": "stdout",
          "text": [
            "<bound method DataFrame.info of     Region     Age    Income Online Shopper Passport  Health    Food\n",
            "0    India  49.000   86400.0             No      yes       1     veg\n",
            "1   Brazil  32.000   57600.0            Yes       no       2  nonveg\n",
            "2      USA  35.000   64800.0             No       no       3     veg\n",
            "3   Brazil  43.000   73200.0             No      yes       2     veg\n",
            "4      USA  45.000       NaN            Yes      yes       2     veg\n",
            "5    India  40.000   69600.0            Yes       no       3     veg\n",
            "6   Brazil  44.375   62400.0             No      yes       3  nonveg\n",
            "7    India  53.000   94800.0            Yes      yes       3  nonveg\n",
            "8      USA  55.000   99600.0             No       no       1  nonveg\n",
            "9    India  42.000   80400.0            Yes       no       2     veg\n",
            "10   India  49.000   86400.0             No       no       2  nonveg\n",
            "11  Brazil  32.000  157600.0            Yes      yes       1     veg\n",
            "12     USA  35.000   64800.0             No       no       1  nonveg\n",
            "13  Brazil  43.000   73200.0             No      yes       2  nonveg\n",
            "14  Brazil  44.375   62400.0             No       no       3     veg\n",
            "15   India  53.000   94800.0            Yes      yes       3  nonveg\n",
            "16   India  49.000   86400.0             No      yes       1     veg\n",
            "17     USA  55.000   99600.0             No      yes       1  nonveg\n",
            "18  Brazil  44.375   62400.0             No       no       2     veg>\n"
          ]
        }
      ]
    },
    {
      "cell_type": "code",
      "metadata": {
        "colab": {
          "base_uri": "https://localhost:8080/"
        },
        "id": "FOcKYq-Dkvsv",
        "outputId": "eda3f90d-2508-42ce-a25b-b50579712266"
      },
      "source": [
        "print(df.isna().sum())"
      ],
      "execution_count": null,
      "outputs": [
        {
          "output_type": "stream",
          "name": "stdout",
          "text": [
            "Region            0\n",
            "Age               0\n",
            "Income            1\n",
            "Online Shopper    0\n",
            "Passport          0\n",
            "Health            0\n",
            "Food              0\n",
            "dtype: int64\n"
          ]
        }
      ]
    },
    {
      "cell_type": "markdown",
      "metadata": {
        "id": "dA_P3LOf7EBq"
      },
      "source": [
        "**(c) Handling Missing Data Values** "
      ]
    },
    {
      "cell_type": "code",
      "metadata": {
        "id": "u0Ey6VEGmba1",
        "colab": {
          "base_uri": "https://localhost:8080/"
        },
        "outputId": "57b9ccea-e9e6-422a-caf0-cc7c609a59fa"
      },
      "source": [
        "df[\"Income\"]=df[\"Income\"].fillna(df[\"Income\"].mean())\n",
        "print(df.info())"
      ],
      "execution_count": null,
      "outputs": [
        {
          "output_type": "stream",
          "name": "stdout",
          "text": [
            "<class 'pandas.core.frame.DataFrame'>\n",
            "RangeIndex: 19 entries, 0 to 18\n",
            "Data columns (total 7 columns):\n",
            " #   Column          Non-Null Count  Dtype  \n",
            "---  ------          --------------  -----  \n",
            " 0   Region          19 non-null     object \n",
            " 1   Age             19 non-null     float64\n",
            " 2   Income          19 non-null     float64\n",
            " 3   Online Shopper  19 non-null     object \n",
            " 4   Passport        19 non-null     object \n",
            " 5   Health          19 non-null     int64  \n",
            " 6   Food            19 non-null     object \n",
            "dtypes: float64(2), int64(1), object(4)\n",
            "memory usage: 1.2+ KB\n",
            "None\n"
          ]
        }
      ]
    },
    {
      "cell_type": "code",
      "metadata": {
        "colab": {
          "base_uri": "https://localhost:8080/",
          "height": 203
        },
        "id": "KPxJI2y-2yOR",
        "outputId": "b2fde025-8b6f-4d34-ad0f-22b1bc002ca8"
      },
      "source": [
        "df.head()"
      ],
      "execution_count": null,
      "outputs": [
        {
          "output_type": "execute_result",
          "data": {
            "text/html": [
              "<div>\n",
              "<style scoped>\n",
              "    .dataframe tbody tr th:only-of-type {\n",
              "        vertical-align: middle;\n",
              "    }\n",
              "\n",
              "    .dataframe tbody tr th {\n",
              "        vertical-align: top;\n",
              "    }\n",
              "\n",
              "    .dataframe thead th {\n",
              "        text-align: right;\n",
              "    }\n",
              "</style>\n",
              "<table border=\"1\" class=\"dataframe\">\n",
              "  <thead>\n",
              "    <tr style=\"text-align: right;\">\n",
              "      <th></th>\n",
              "      <th>Region</th>\n",
              "      <th>Age</th>\n",
              "      <th>Income</th>\n",
              "      <th>Online Shopper</th>\n",
              "      <th>Passport</th>\n",
              "      <th>Health</th>\n",
              "      <th>Food</th>\n",
              "    </tr>\n",
              "  </thead>\n",
              "  <tbody>\n",
              "    <tr>\n",
              "      <th>0</th>\n",
              "      <td>India</td>\n",
              "      <td>49.0</td>\n",
              "      <td>86400.000000</td>\n",
              "      <td>No</td>\n",
              "      <td>yes</td>\n",
              "      <td>1</td>\n",
              "      <td>veg</td>\n",
              "    </tr>\n",
              "    <tr>\n",
              "      <th>1</th>\n",
              "      <td>Brazil</td>\n",
              "      <td>32.0</td>\n",
              "      <td>57600.000000</td>\n",
              "      <td>Yes</td>\n",
              "      <td>no</td>\n",
              "      <td>2</td>\n",
              "      <td>nonveg</td>\n",
              "    </tr>\n",
              "    <tr>\n",
              "      <th>2</th>\n",
              "      <td>USA</td>\n",
              "      <td>35.0</td>\n",
              "      <td>64800.000000</td>\n",
              "      <td>No</td>\n",
              "      <td>no</td>\n",
              "      <td>3</td>\n",
              "      <td>veg</td>\n",
              "    </tr>\n",
              "    <tr>\n",
              "      <th>3</th>\n",
              "      <td>Brazil</td>\n",
              "      <td>43.0</td>\n",
              "      <td>73200.000000</td>\n",
              "      <td>No</td>\n",
              "      <td>yes</td>\n",
              "      <td>2</td>\n",
              "      <td>veg</td>\n",
              "    </tr>\n",
              "    <tr>\n",
              "      <th>4</th>\n",
              "      <td>USA</td>\n",
              "      <td>45.0</td>\n",
              "      <td>82022.222222</td>\n",
              "      <td>Yes</td>\n",
              "      <td>yes</td>\n",
              "      <td>2</td>\n",
              "      <td>veg</td>\n",
              "    </tr>\n",
              "  </tbody>\n",
              "</table>\n",
              "</div>"
            ],
            "text/plain": [
              "   Region   Age        Income Online Shopper Passport  Health    Food\n",
              "0   India  49.0  86400.000000             No      yes       1     veg\n",
              "1  Brazil  32.0  57600.000000            Yes       no       2  nonveg\n",
              "2     USA  35.0  64800.000000             No       no       3     veg\n",
              "3  Brazil  43.0  73200.000000             No      yes       2     veg\n",
              "4     USA  45.0  82022.222222            Yes      yes       2     veg"
            ]
          },
          "metadata": {},
          "execution_count": 12
        }
      ]
    },
    {
      "cell_type": "code",
      "metadata": {
        "colab": {
          "base_uri": "https://localhost:8080/"
        },
        "id": "34eAIUX33Cht",
        "outputId": "7859f92e-a066-4ea0-803d-5c6c2f842f2b"
      },
      "source": [
        "print(df.isna())"
      ],
      "execution_count": null,
      "outputs": [
        {
          "output_type": "stream",
          "name": "stdout",
          "text": [
            "    Region    Age  Income  Online Shopper  Passport  Health   Food\n",
            "0    False  False   False           False     False   False  False\n",
            "1    False  False   False           False     False   False  False\n",
            "2    False  False   False           False     False   False  False\n",
            "3    False  False   False           False     False   False  False\n",
            "4    False  False   False           False     False   False  False\n",
            "5    False  False   False           False     False   False  False\n",
            "6    False  False   False           False     False   False  False\n",
            "7    False  False   False           False     False   False  False\n",
            "8    False  False   False           False     False   False  False\n",
            "9    False  False   False           False     False   False  False\n",
            "10   False  False   False           False     False   False  False\n",
            "11   False  False   False           False     False   False  False\n",
            "12   False  False   False           False     False   False  False\n",
            "13   False  False   False           False     False   False  False\n",
            "14   False  False   False           False     False   False  False\n",
            "15   False  False   False           False     False   False  False\n",
            "16   False  False   False           False     False   False  False\n",
            "17   False  False   False           False     False   False  False\n",
            "18   False  False   False           False     False   False  False\n"
          ]
        }
      ]
    },
    {
      "cell_type": "code",
      "metadata": {
        "colab": {
          "base_uri": "https://localhost:8080/"
        },
        "id": "gXz0iZsa3PVB",
        "outputId": "148700ae-7b57-4df8-996a-7b87be515c85"
      },
      "source": [
        "print(df.isna().sum())"
      ],
      "execution_count": null,
      "outputs": [
        {
          "output_type": "stream",
          "name": "stdout",
          "text": [
            "Region            0\n",
            "Age               0\n",
            "Income            0\n",
            "Online Shopper    0\n",
            "Passport          0\n",
            "Health            0\n",
            "Food              0\n",
            "dtype: int64\n"
          ]
        }
      ]
    },
    {
      "cell_type": "markdown",
      "metadata": {
        "id": "Jsth3dYc9GKQ"
      },
      "source": [
        "**(d) 1.Finding Mean**"
      ]
    },
    {
      "cell_type": "code",
      "metadata": {
        "colab": {
          "base_uri": "https://localhost:8080/"
        },
        "id": "TW-fDraZ9QQV",
        "outputId": "cf46c8f6-44b2-4373-c36e-5c6d8aa084dd"
      },
      "source": [
        "print(df.mean())"
      ],
      "execution_count": null,
      "outputs": [
        {
          "output_type": "stream",
          "name": "stdout",
          "text": [
            "Age          44.375000\n",
            "Income    82022.222222\n",
            "Health        2.000000\n",
            "dtype: float64\n"
          ]
        }
      ]
    },
    {
      "cell_type": "code",
      "metadata": {
        "colab": {
          "base_uri": "https://localhost:8080/"
        },
        "id": "V8ht2d2c-38C",
        "outputId": "42a4c1b8-e63f-48b5-dccc-1d4f2f34e900"
      },
      "source": [
        "print(df[\"Age\"].mean())"
      ],
      "execution_count": null,
      "outputs": [
        {
          "output_type": "stream",
          "name": "stdout",
          "text": [
            "44.375\n"
          ]
        }
      ]
    },
    {
      "cell_type": "code",
      "metadata": {
        "colab": {
          "base_uri": "https://localhost:8080/"
        },
        "id": "AYzygikQ_APz",
        "outputId": "f7794cd0-5a99-41c5-d7e5-cf7f7dd78489"
      },
      "source": [
        "print(df[\"Health\"].mean())"
      ],
      "execution_count": null,
      "outputs": [
        {
          "output_type": "stream",
          "name": "stdout",
          "text": [
            "2.0\n"
          ]
        }
      ]
    },
    {
      "cell_type": "code",
      "metadata": {
        "colab": {
          "base_uri": "https://localhost:8080/"
        },
        "id": "7iB5LUm4_I8L",
        "outputId": "ab1e5b53-370f-40d0-c976-8d913a7f34fd"
      },
      "source": [
        "print(df[\"Income\"].mean())"
      ],
      "execution_count": null,
      "outputs": [
        {
          "output_type": "stream",
          "name": "stdout",
          "text": [
            "82022.22222222222\n"
          ]
        }
      ]
    },
    {
      "cell_type": "markdown",
      "metadata": {
        "id": "1FO1lQiS_c-U"
      },
      "source": [
        "**(2) Median** "
      ]
    },
    {
      "cell_type": "code",
      "metadata": {
        "colab": {
          "base_uri": "https://localhost:8080/"
        },
        "id": "nfudjJY59dZN",
        "outputId": "e045806d-ed58-4c54-fec2-20b7ae8b4239"
      },
      "source": [
        "print(df.median())"
      ],
      "execution_count": null,
      "outputs": [
        {
          "output_type": "stream",
          "name": "stdout",
          "text": [
            "Age          44.375\n",
            "Income    80400.000\n",
            "Health        2.000\n",
            "dtype: float64\n"
          ]
        }
      ]
    },
    {
      "cell_type": "code",
      "metadata": {
        "colab": {
          "base_uri": "https://localhost:8080/"
        },
        "id": "SH6T5fDi_HOE",
        "outputId": "14d2eaee-870b-4ec9-b643-e27ce9f68f4f"
      },
      "source": [
        "print(df[\"Age\"].median())"
      ],
      "execution_count": null,
      "outputs": [
        {
          "output_type": "stream",
          "name": "stdout",
          "text": [
            "44.375\n"
          ]
        }
      ]
    },
    {
      "cell_type": "markdown",
      "metadata": {
        "id": "jQlfLydJ_lNN"
      },
      "source": [
        "**(3) Mode**"
      ]
    },
    {
      "cell_type": "code",
      "metadata": {
        "colab": {
          "base_uri": "https://localhost:8080/"
        },
        "id": "yPNLRW_49ges",
        "outputId": "ffa93bfa-f662-41de-d10c-2063df3564e3"
      },
      "source": [
        "from scipy import stats\n",
        "print(df.mode())"
      ],
      "execution_count": null,
      "outputs": [
        {
          "output_type": "stream",
          "name": "stdout",
          "text": [
            "   Region     Age   Income Online Shopper Passport  Health Food\n",
            "0  Brazil  44.375  62400.0             No      yes     2.0  veg\n",
            "1   India  49.000  86400.0            NaN      NaN     NaN  NaN\n"
          ]
        }
      ]
    },
    {
      "cell_type": "markdown",
      "metadata": {
        "id": "SmxufqDwCrW4"
      },
      "source": [
        "**(4) Variance** "
      ]
    },
    {
      "cell_type": "code",
      "metadata": {
        "colab": {
          "base_uri": "https://localhost:8080/"
        },
        "id": "k4cSrLDTBlw0",
        "outputId": "c676c72a-7db2-408e-83f7-ded188501f3b"
      },
      "source": [
        "import statistics\n",
        "df.var()"
      ],
      "execution_count": null,
      "outputs": [
        {
          "output_type": "execute_result",
          "data": {
            "text/plain": [
              "Age       5.276389e+01\n",
              "Income    5.206306e+08\n",
              "Health    6.666667e-01\n",
              "dtype: float64"
            ]
          },
          "metadata": {},
          "execution_count": 22
        }
      ]
    },
    {
      "cell_type": "code",
      "metadata": {
        "colab": {
          "base_uri": "https://localhost:8080/"
        },
        "id": "cLM4avvzEAsB",
        "outputId": "da15dea5-a5a5-4388-95af-f73a7a39c17a"
      },
      "source": [
        "statistics.variance(df[\"Income\"])"
      ],
      "execution_count": null,
      "outputs": [
        {
          "output_type": "execute_result",
          "data": {
            "text/plain": [
              "520630617.2839506"
            ]
          },
          "metadata": {},
          "execution_count": 23
        }
      ]
    },
    {
      "cell_type": "markdown",
      "metadata": {
        "id": "2DLz1yyLEBjP"
      },
      "source": [
        "**(5) Standard Deviation**"
      ]
    },
    {
      "cell_type": "code",
      "metadata": {
        "colab": {
          "base_uri": "https://localhost:8080/"
        },
        "id": "dZH-9fWzFe7G",
        "outputId": "85d9e4ec-7216-426f-e4ad-10a5a22f03cf"
      },
      "source": [
        "print(df.std()) # numpy"
      ],
      "execution_count": null,
      "outputs": [
        {
          "output_type": "stream",
          "name": "stdout",
          "text": [
            "Age           7.263876\n",
            "Income    22817.331511\n",
            "Health        0.816497\n",
            "dtype: float64\n"
          ]
        }
      ]
    },
    {
      "cell_type": "code",
      "metadata": {
        "colab": {
          "base_uri": "https://localhost:8080/"
        },
        "id": "NHxTodibFmpB",
        "outputId": "3320959d-9efb-4dc6-a90f-33b23dca96fb"
      },
      "source": [
        "import statistics\n",
        "statistics.stdev(df[\"Income\"])"
      ],
      "execution_count": null,
      "outputs": [
        {
          "output_type": "execute_result",
          "data": {
            "text/plain": [
              "22817.331511023604"
            ]
          },
          "metadata": {},
          "execution_count": 25
        }
      ]
    },
    {
      "cell_type": "markdown",
      "metadata": {
        "id": "Mz8mqE_yHWR7"
      },
      "source": [
        "**(6) Normal Distribution**"
      ]
    },
    {
      "cell_type": "code",
      "metadata": {
        "id": "ydLErk5oHgfH",
        "colab": {
          "base_uri": "https://localhost:8080/"
        },
        "outputId": "3594d18b-60e8-4233-8a9a-4b0d2c103458"
      },
      "source": [
        "from numpy.linalg import norm \n",
        "print(norm(df['Age']))\n",
        "print(norm(df['Income']))\n",
        "print(norm(df['Health']))"
      ],
      "execution_count": null,
      "outputs": [
        {
          "output_type": "stream",
          "name": "stdout",
          "text": [
            "195.86582620508358\n",
            "370400.60061813024\n",
            "9.38083151964686\n"
          ]
        }
      ]
    },
    {
      "cell_type": "code",
      "metadata": {
        "id": "6UlFkSkIew-z"
      },
      "source": [
        ""
      ],
      "execution_count": null,
      "outputs": []
    },
    {
      "cell_type": "markdown",
      "metadata": {
        "id": "34qgydBAfOCy"
      },
      "source": [
        "**(7) Uniform Distribution**\n"
      ]
    },
    {
      "cell_type": "code",
      "metadata": {
        "colab": {
          "base_uri": "https://localhost:8080/"
        },
        "id": "AHWkLM2TfYqL",
        "outputId": "4b598dcb-b88b-4005-d17b-ddd855e06aee"
      },
      "source": [
        "\n",
        "from scipy.stats import uniform \n",
        "print(np.random.uniform(df['Age']))\n",
        "print(\"\\n\")\n",
        "print(np.random.uniform(df['Income']))\n",
        "print(\"\\n\")\n",
        "print(np.random.uniform(df['Health']))"
      ],
      "execution_count": null,
      "outputs": [
        {
          "output_type": "stream",
          "name": "stdout",
          "text": [
            "[42.84333581 22.66867887  5.94661047 10.75093953  6.17763052 32.97397562\n",
            " 13.36372927 21.61239811 27.59412831 22.42444399 41.46072089 29.25145197\n",
            "  1.49331434 27.46861302 40.67140856 28.50014419  3.24995716 12.4423503\n",
            "  4.69428119]\n",
            "\n",
            "\n",
            "[ 67550.11649287   9229.25693988   8775.13546532  43880.2101251\n",
            "  79482.3709338   41757.39874243  45981.40369041  43803.65526508\n",
            "  94015.68343326  57016.75036514    148.02386226 105549.32638222\n",
            "   7287.98490036  72885.5449684   34906.35202086  23920.09042493\n",
            "  19501.00116901  88157.57244189  11613.66865071]\n",
            "\n",
            "\n",
            "[1.         1.36249521 1.49537708 1.43296691 1.6277819  1.64143219\n",
            " 2.65313278 1.04218476 1.         1.57225342 1.69918096 1.\n",
            " 1.         1.16442853 1.58352237 1.81806207 1.         1.\n",
            " 1.35151041]\n"
          ]
        }
      ]
    },
    {
      "cell_type": "code",
      "metadata": {
        "id": "LRWALQiKfwKk"
      },
      "source": [
        ""
      ],
      "execution_count": null,
      "outputs": []
    },
    {
      "cell_type": "markdown",
      "metadata": {
        "id": "0ARHMjBugQ4P"
      },
      "source": [
        "**(e) PLOTS**"
      ]
    },
    {
      "cell_type": "markdown",
      "metadata": {
        "id": "510E8mwqj-r2"
      },
      "source": [
        "**DENSITY PLOT** "
      ]
    },
    {
      "cell_type": "code",
      "metadata": {
        "colab": {
          "base_uri": "https://localhost:8080/",
          "height": 552
        },
        "id": "_dlzJ7f3jJcO",
        "outputId": "65e43efe-ce69-4875-89a0-33d679c991d8"
      },
      "source": [
        "\n",
        "df.plot(kind='density',subplots=True,sharex=False,figsize=(10,8))\n",
        "\n"
      ],
      "execution_count": null,
      "outputs": [
        {
          "output_type": "execute_result",
          "data": {
            "text/plain": [
              "array([<matplotlib.axes._subplots.AxesSubplot object at 0x7f53d4e5db10>,\n",
              "       <matplotlib.axes._subplots.AxesSubplot object at 0x7f53d4e2f3d0>,\n",
              "       <matplotlib.axes._subplots.AxesSubplot object at 0x7f53d4de6a50>],\n",
              "      dtype=object)"
            ]
          },
          "metadata": {},
          "execution_count": 28
        },
        {
          "output_type": "display_data",
          "data": {
            "image/png": "[encoded data removed]",
            "text/plain": [
              "<Figure size 720x576 with 3 Axes>"
            ]
          },
          "metadata": {
            "needs_background": "light"
          }
        }
      ]
    },
    {
      "cell_type": "markdown",
      "metadata": {
        "id": "0a1kACz4j1Nl"
      },
      "source": [
        "# Bar Diagrams\n",
        "\n"
      ]
    },
    {
      "cell_type": "code",
      "metadata": {
        "colab": {
          "base_uri": "https://localhost:8080/",
          "height": 350
        },
        "id": "PgyzFaoKkMyG",
        "outputId": "95bd56c2-8f28-4d11-8f4f-f5d51d2cdc25"
      },
      "source": [
        "sns.barplot(df['Region'],df['Age'])\n"
      ],
      "execution_count": null,
      "outputs": [
        {
          "output_type": "stream",
          "name": "stderr",
          "text": [
            "/usr/local/lib/python3.7/dist-packages/seaborn/_decorators.py:43: FutureWarning: Pass the following variables as keyword args: x, y. From version 0.12, the only valid positional argument will be `data`, and passing other arguments without an explicit keyword will result in an error or misinterpretation.\n",
            "  FutureWarning\n"
          ]
        },
        {
          "output_type": "execute_result",
          "data": {
            "text/plain": [
              "<matplotlib.axes._subplots.AxesSubplot at 0x7f53d2676910>"
            ]
          },
          "metadata": {},
          "execution_count": 31
        },
        {
          "output_type": "display_data",
          "data": {
            "image/png": "[encoded data removed]",
            "text/plain": [
              "<Figure size 432x288 with 1 Axes>"
            ]
          },
          "metadata": {
            "needs_background": "light"
          }
        }
      ]
    },
    {
      "cell_type": "code",
      "metadata": {
        "colab": {
          "base_uri": "https://localhost:8080/",
          "height": 350
        },
        "id": "xtt9bLTxk0dM",
        "outputId": "ecec2104-2fcb-4470-a53f-cf17431a5699"
      },
      "source": [
        "\n",
        "sns.barplot(df['Region'],df['Health'])\n",
        "\n"
      ],
      "execution_count": null,
      "outputs": [
        {
          "output_type": "stream",
          "name": "stderr",
          "text": [
            "/usr/local/lib/python3.7/dist-packages/seaborn/_decorators.py:43: FutureWarning: Pass the following variables as keyword args: x, y. From version 0.12, the only valid positional argument will be `data`, and passing other arguments without an explicit keyword will result in an error or misinterpretation.\n",
            "  FutureWarning\n"
          ]
        },
        {
          "output_type": "execute_result",
          "data": {
            "text/plain": [
              "<matplotlib.axes._subplots.AxesSubplot at 0x7f53d25db050>"
            ]
          },
          "metadata": {},
          "execution_count": 32
        },
        {
          "output_type": "display_data",
          "data": {
            "image/png": "[encoded data removed]",
            "text/plain": [
              "<Figure size 432x288 with 1 Axes>"
            ]
          },
          "metadata": {
            "needs_background": "light"
          }
        }
      ]
    },
    {
      "cell_type": "code",
      "metadata": {
        "colab": {
          "base_uri": "https://localhost:8080/",
          "height": 350
        },
        "id": "r86nHSkvk5n3",
        "outputId": "fa45be38-dd4d-4f3c-df4a-6e1771072d32"
      },
      "source": [
        "\n",
        "sns.barplot(df['Region'],df['Income'])"
      ],
      "execution_count": null,
      "outputs": [
        {
          "output_type": "stream",
          "name": "stderr",
          "text": [
            "/usr/local/lib/python3.7/dist-packages/seaborn/_decorators.py:43: FutureWarning: Pass the following variables as keyword args: x, y. From version 0.12, the only valid positional argument will be `data`, and passing other arguments without an explicit keyword will result in an error or misinterpretation.\n",
            "  FutureWarning\n"
          ]
        },
        {
          "output_type": "execute_result",
          "data": {
            "text/plain": [
              "<matplotlib.axes._subplots.AxesSubplot at 0x7f53d25e2a10>"
            ]
          },
          "metadata": {},
          "execution_count": 33
        },
        {
          "output_type": "display_data",
          "data": {
            "image/png": "[encoded data removed]",
            "text/plain": [
              "<Figure size 432x288 with 1 Axes>"
            ]
          },
          "metadata": {
            "needs_background": "light"
          }
        }
      ]
    },
    {
      "cell_type": "markdown",
      "metadata": {
        "id": "jSmQ_FU4lA3C"
      },
      "source": [
        "**BOX PLOT**"
      ]
    },
    {
      "cell_type": "code",
      "metadata": {
        "colab": {
          "base_uri": "https://localhost:8080/",
          "height": 350
        },
        "id": "q_xAZQJnlFAV",
        "outputId": "21e60dc7-3d73-4106-a00b-da7121d24ae1"
      },
      "source": [
        "sns.boxplot(df.Age)"
      ],
      "execution_count": null,
      "outputs": [
        {
          "output_type": "stream",
          "name": "stderr",
          "text": [
            "/usr/local/lib/python3.7/dist-packages/seaborn/_decorators.py:43: FutureWarning: Pass the following variable as a keyword arg: x. From version 0.12, the only valid positional argument will be `data`, and passing other arguments without an explicit keyword will result in an error or misinterpretation.\n",
            "  FutureWarning\n"
          ]
        },
        {
          "output_type": "execute_result",
          "data": {
            "text/plain": [
              "<matplotlib.axes._subplots.AxesSubplot at 0x7f53d2510b90>"
            ]
          },
          "metadata": {},
          "execution_count": 34
        },
        {
          "output_type": "display_data",
          "data": {
            "image/png": "[encoded data removed]",
            "text/plain": [
              "<Figure size 432x288 with 1 Axes>"
            ]
          },
          "metadata": {
            "needs_background": "light"
          }
        }
      ]
    },
    {
      "cell_type": "code",
      "metadata": {
        "colab": {
          "base_uri": "https://localhost:8080/",
          "height": 350
        },
        "id": "08A9tovnlLWM",
        "outputId": "62ec156f-b528-4286-d2a4-b6405d2a3fd8"
      },
      "source": [
        "sns.boxplot(df.Income)"
      ],
      "execution_count": null,
      "outputs": [
        {
          "output_type": "stream",
          "name": "stderr",
          "text": [
            "/usr/local/lib/python3.7/dist-packages/seaborn/_decorators.py:43: FutureWarning: Pass the following variable as a keyword arg: x. From version 0.12, the only valid positional argument will be `data`, and passing other arguments without an explicit keyword will result in an error or misinterpretation.\n",
            "  FutureWarning\n"
          ]
        },
        {
          "output_type": "execute_result",
          "data": {
            "text/plain": [
              "<matplotlib.axes._subplots.AxesSubplot at 0x7f53d242a650>"
            ]
          },
          "metadata": {},
          "execution_count": 36
        },
        {
          "output_type": "display_data",
          "data": {
            "image/png": "[encoded data removed]",
            "text/plain": [
              "<Figure size 432x288 with 1 Axes>"
            ]
          },
          "metadata": {
            "needs_background": "light"
          }
        }
      ]
    },
    {
      "cell_type": "code",
      "metadata": {
        "colab": {
          "base_uri": "https://localhost:8080/",
          "height": 350
        },
        "id": "8ziJJsdklPmv",
        "outputId": "1a267742-87e6-4dd2-ba5c-c2650064e438"
      },
      "source": [
        "sns.boxplot(df.Health)"
      ],
      "execution_count": null,
      "outputs": [
        {
          "output_type": "stream",
          "name": "stderr",
          "text": [
            "/usr/local/lib/python3.7/dist-packages/seaborn/_decorators.py:43: FutureWarning: Pass the following variable as a keyword arg: x. From version 0.12, the only valid positional argument will be `data`, and passing other arguments without an explicit keyword will result in an error or misinterpretation.\n",
            "  FutureWarning\n"
          ]
        },
        {
          "output_type": "execute_result",
          "data": {
            "text/plain": [
              "<matplotlib.axes._subplots.AxesSubplot at 0x7f53d238f210>"
            ]
          },
          "metadata": {},
          "execution_count": 37
        },
        {
          "output_type": "display_data",
          "data": {
            "image/png": "[encoded data removed]",
            "text/plain": [
              "<Figure size 432x288 with 1 Axes>"
            ]
          },
          "metadata": {
            "needs_background": "light"
          }
        }
      ]
    },
    {
      "cell_type": "code",
      "metadata": {
        "id": "xOhJyvInlTG0"
      },
      "source": [
        ""
      ],
      "execution_count": null,
      "outputs": []
    },
    {
      "cell_type": "markdown",
      "metadata": {
        "id": "72ubfN3OlXPh"
      },
      "source": [
        "**HISTOGRAM**"
      ]
    },
    {
      "cell_type": "code",
      "metadata": {
        "colab": {
          "base_uri": "https://localhost:8080/",
          "height": 583
        },
        "id": "Dj8y7D_2lbLh",
        "outputId": "2b420ec4-a9f5-4750-d936-924a9b9200a6"
      },
      "source": [
        "df.hist(alpha=.8, figsize=(10,8))"
      ],
      "execution_count": null,
      "outputs": [
        {
          "output_type": "execute_result",
          "data": {
            "text/plain": [
              "array([[<matplotlib.axes._subplots.AxesSubplot object at 0x7f53d2307ad0>,\n",
              "        <matplotlib.axes._subplots.AxesSubplot object at 0x7f53d2338a90>],\n",
              "       [<matplotlib.axes._subplots.AxesSubplot object at 0x7f53d22fa150>,\n",
              "        <matplotlib.axes._subplots.AxesSubplot object at 0x7f53d22ae7d0>]],\n",
              "      dtype=object)"
            ]
          },
          "metadata": {},
          "execution_count": 38
        },
        {
          "output_type": "display_data",
          "data": {
            "image/png": "[encoded data removed]",
            "text/plain": [
              "<Figure size 720x576 with 4 Axes>"
            ]
          },
          "metadata": {
            "needs_background": "light"
          }
        }
      ]
    },
    {
      "cell_type": "code",
      "metadata": {
        "id": "0xCDR_TSlgsK"
      },
      "source": [
        ""
      ],
      "execution_count": null,
      "outputs": []
    },
    {
      "cell_type": "markdown",
      "metadata": {
        "id": "dvXEALjFlj1J"
      },
      "source": [
        "**LINE CHART**"
      ]
    },
    {
      "cell_type": "code",
      "metadata": {
        "colab": {
          "base_uri": "https://localhost:8080/",
          "height": 282
        },
        "id": "jQGJAXFQllqf",
        "outputId": "b223aeef-2f9d-44a0-9bfb-447394a262d2"
      },
      "source": [
        "import matplotlib.pyplot as plot\n",
        "df.plot.line(y=\"Age\")"
      ],
      "execution_count": null,
      "outputs": [
        {
          "output_type": "execute_result",
          "data": {
            "text/plain": [
              "<matplotlib.axes._subplots.AxesSubplot at 0x7f53d2132ed0>"
            ]
          },
          "metadata": {},
          "execution_count": 39
        },
        {
          "output_type": "display_data",
          "data": {
            "image/png": "[encoded data removed]",
            "text/plain": [
              "<Figure size 432x288 with 1 Axes>"
            ]
          },
          "metadata": {
            "needs_background": "light"
          }
        }
      ]
    },
    {
      "cell_type": "code",
      "metadata": {
        "colab": {
          "base_uri": "https://localhost:8080/",
          "height": 282
        },
        "id": "-KRCslnLlroA",
        "outputId": "85ee69d7-215d-452a-a968-8741eaa03361"
      },
      "source": [
        "df.plot.line(y=\"Income\")"
      ],
      "execution_count": null,
      "outputs": [
        {
          "output_type": "execute_result",
          "data": {
            "text/plain": [
              "<matplotlib.axes._subplots.AxesSubplot at 0x7f53d208bd90>"
            ]
          },
          "metadata": {},
          "execution_count": 40
        },
        {
          "output_type": "display_data",
          "data": {
            "image/png": "[encoded data removed]",
            "text/plain": [
              "<Figure size 432x288 with 1 Axes>"
            ]
          },
          "metadata": {
            "needs_background": "light"
          }
        }
      ]
    },
    {
      "cell_type": "code",
      "metadata": {
        "colab": {
          "base_uri": "https://localhost:8080/",
          "height": 282
        },
        "id": "4L6-mdP2lxFa",
        "outputId": "133ce7f8-65f3-4397-d820-b2505478ebb2"
      },
      "source": [
        "df.plot.line(y=\"Health\")"
      ],
      "execution_count": null,
      "outputs": [
        {
          "output_type": "execute_result",
          "data": {
            "text/plain": [
              "<matplotlib.axes._subplots.AxesSubplot at 0x7f53d25c7a90>"
            ]
          },
          "metadata": {},
          "execution_count": 41
        },
        {
          "output_type": "display_data",
          "data": {
            "image/png": "[encoded data removed]",
            "text/plain": [
              "<Figure size 432x288 with 1 Axes>"
            ]
          },
          "metadata": {
            "needs_background": "light"
          }
        }
      ]
    },
    {
      "cell_type": "markdown",
      "metadata": {
        "id": "P1YDmFyxlzCp"
      },
      "source": [
        "**(f) Outliers from the artificial data for each feature**"
      ]
    },
    {
      "cell_type": "code",
      "metadata": {
        "colab": {
          "base_uri": "https://localhost:8080/"
        },
        "id": "v2IeWdZHmFmS",
        "outputId": "14476c7a-4e55-44b2-a3b6-67ab66836016"
      },
      "source": [
        "print(df.describe())"
      ],
      "execution_count": null,
      "outputs": [
        {
          "output_type": "stream",
          "name": "stdout",
          "text": [
            "             Age         Income     Health\n",
            "count  19.000000      19.000000  19.000000\n",
            "mean   44.375000   82022.222222   2.000000\n",
            "std     7.263876   22817.331511   0.816497\n",
            "min    32.000000   57600.000000   1.000000\n",
            "25%    41.000000   64800.000000   1.000000\n",
            "50%    44.375000   80400.000000   2.000000\n",
            "75%    49.000000   90600.000000   3.000000\n",
            "max    55.000000  157600.000000   3.000000\n"
          ]
        }
      ]
    },
    {
      "cell_type": "code",
      "metadata": {
        "colab": {
          "base_uri": "https://localhost:8080/"
        },
        "id": "D2t_JM-NupXy",
        "outputId": "2b5baba4-d9ea-4e12-ef05-e55e553c9d78"
      },
      "source": [
        "lowerLimit=df[\"Age\"].quantile(0.05)\n",
        "lowerLimit"
      ],
      "execution_count": null,
      "outputs": [
        {
          "output_type": "execute_result",
          "data": {
            "text/plain": [
              "32.0"
            ]
          },
          "metadata": {},
          "execution_count": 46
        }
      ]
    },
    {
      "cell_type": "code",
      "metadata": {
        "colab": {
          "base_uri": "https://localhost:8080/"
        },
        "id": "nhpLEM2pvUlN",
        "outputId": "b4108684-fa77-4e88-9bc9-44e9d3946530"
      },
      "source": [
        "upperLimit=df[\"Age\"].quantile(0.95)\n",
        "upperLimit"
      ],
      "execution_count": null,
      "outputs": [
        {
          "output_type": "execute_result",
          "data": {
            "text/plain": [
              "55.0"
            ]
          },
          "metadata": {},
          "execution_count": 47
        }
      ]
    },
    {
      "cell_type": "code",
      "metadata": {
        "colab": {
          "base_uri": "https://localhost:8080/",
          "height": 49
        },
        "id": "dwJJv79aBsad",
        "outputId": "eb1fec34-6534-4033-8469-673cf9cdbf07"
      },
      "source": [
        "df[df[\"Age\"]<lowerLimit]\n"
      ],
      "execution_count": null,
      "outputs": [
        {
          "output_type": "execute_result",
          "data": {
            "text/html": [
              "<div>\n",
              "<style scoped>\n",
              "    .dataframe tbody tr th:only-of-type {\n",
              "        vertical-align: middle;\n",
              "    }\n",
              "\n",
              "    .dataframe tbody tr th {\n",
              "        vertical-align: top;\n",
              "    }\n",
              "\n",
              "    .dataframe thead th {\n",
              "        text-align: right;\n",
              "    }\n",
              "</style>\n",
              "<table border=\"1\" class=\"dataframe\">\n",
              "  <thead>\n",
              "    <tr style=\"text-align: right;\">\n",
              "      <th></th>\n",
              "      <th>Region</th>\n",
              "      <th>Age</th>\n",
              "      <th>Income</th>\n",
              "      <th>Online Shopper</th>\n",
              "      <th>Passport</th>\n",
              "      <th>Health</th>\n",
              "      <th>Food</th>\n",
              "    </tr>\n",
              "  </thead>\n",
              "  <tbody>\n",
              "  </tbody>\n",
              "</table>\n",
              "</div>"
            ],
            "text/plain": [
              "Empty DataFrame\n",
              "Columns: [Region, Age, Income, Online Shopper, Passport, Health, Food]\n",
              "Index: []"
            ]
          },
          "metadata": {},
          "execution_count": 53
        }
      ]
    },
    {
      "cell_type": "code",
      "metadata": {
        "colab": {
          "base_uri": "https://localhost:8080/",
          "height": 49
        },
        "id": "OVrgOCgAB_2A",
        "outputId": "3d120dc3-e667-4cbe-8a2f-4a97eada9c92"
      },
      "source": [
        "df[df[\"Age\"]>upperLimit]"
      ],
      "execution_count": null,
      "outputs": [
        {
          "output_type": "execute_result",
          "data": {
            "text/html": [
              "<div>\n",
              "<style scoped>\n",
              "    .dataframe tbody tr th:only-of-type {\n",
              "        vertical-align: middle;\n",
              "    }\n",
              "\n",
              "    .dataframe tbody tr th {\n",
              "        vertical-align: top;\n",
              "    }\n",
              "\n",
              "    .dataframe thead th {\n",
              "        text-align: right;\n",
              "    }\n",
              "</style>\n",
              "<table border=\"1\" class=\"dataframe\">\n",
              "  <thead>\n",
              "    <tr style=\"text-align: right;\">\n",
              "      <th></th>\n",
              "      <th>Region</th>\n",
              "      <th>Age</th>\n",
              "      <th>Income</th>\n",
              "      <th>Online Shopper</th>\n",
              "      <th>Passport</th>\n",
              "      <th>Health</th>\n",
              "      <th>Food</th>\n",
              "    </tr>\n",
              "  </thead>\n",
              "  <tbody>\n",
              "  </tbody>\n",
              "</table>\n",
              "</div>"
            ],
            "text/plain": [
              "Empty DataFrame\n",
              "Columns: [Region, Age, Income, Online Shopper, Passport, Health, Food]\n",
              "Index: []"
            ]
          },
          "metadata": {},
          "execution_count": 55
        }
      ]
    },
    {
      "cell_type": "code",
      "metadata": {
        "colab": {
          "base_uri": "https://localhost:8080/"
        },
        "id": "GeV7pJuAWHEz",
        "outputId": "9274aab4-fabc-403d-9baa-b5ef10756622"
      },
      "source": [
        "lowerLimit1=df[\"Income\"].quantile(0.05)\n",
        "lowerLimit1"
      ],
      "execution_count": null,
      "outputs": [
        {
          "output_type": "execute_result",
          "data": {
            "text/plain": [
              "61920.0"
            ]
          },
          "metadata": {},
          "execution_count": 64
        }
      ]
    },
    {
      "cell_type": "code",
      "metadata": {
        "colab": {
          "base_uri": "https://localhost:8080/"
        },
        "id": "MKxPxyUNXCRn",
        "outputId": "7e507948-2d77-409d-8e1c-7570a4416ed8"
      },
      "source": [
        "upperLimit1=df[\"Income\"].quantile(0.95)\n",
        "upperLimit1"
      ],
      "execution_count": null,
      "outputs": [
        {
          "output_type": "execute_result",
          "data": {
            "text/plain": [
              "105399.99999999988"
            ]
          },
          "metadata": {},
          "execution_count": 65
        }
      ]
    },
    {
      "cell_type": "code",
      "metadata": {
        "colab": {
          "base_uri": "https://localhost:8080/",
          "height": 80
        },
        "id": "HXdGHWNAXHCE",
        "outputId": "b8159285-879e-425f-f178-447a1e7645d7"
      },
      "source": [
        "df[df[\"Income\"]<lowerLimit1]"
      ],
      "execution_count": null,
      "outputs": [
        {
          "output_type": "execute_result",
          "data": {
            "text/html": [
              "<div>\n",
              "<style scoped>\n",
              "    .dataframe tbody tr th:only-of-type {\n",
              "        vertical-align: middle;\n",
              "    }\n",
              "\n",
              "    .dataframe tbody tr th {\n",
              "        vertical-align: top;\n",
              "    }\n",
              "\n",
              "    .dataframe thead th {\n",
              "        text-align: right;\n",
              "    }\n",
              "</style>\n",
              "<table border=\"1\" class=\"dataframe\">\n",
              "  <thead>\n",
              "    <tr style=\"text-align: right;\">\n",
              "      <th></th>\n",
              "      <th>Region</th>\n",
              "      <th>Age</th>\n",
              "      <th>Income</th>\n",
              "      <th>Online Shopper</th>\n",
              "      <th>Passport</th>\n",
              "      <th>Health</th>\n",
              "      <th>Food</th>\n",
              "    </tr>\n",
              "  </thead>\n",
              "  <tbody>\n",
              "    <tr>\n",
              "      <th>1</th>\n",
              "      <td>Brazil</td>\n",
              "      <td>32.0</td>\n",
              "      <td>57600.0</td>\n",
              "      <td>Yes</td>\n",
              "      <td>no</td>\n",
              "      <td>2</td>\n",
              "      <td>nonveg</td>\n",
              "    </tr>\n",
              "  </tbody>\n",
              "</table>\n",
              "</div>"
            ],
            "text/plain": [
              "   Region   Age   Income Online Shopper Passport  Health    Food\n",
              "1  Brazil  32.0  57600.0            Yes       no       2  nonveg"
            ]
          },
          "metadata": {},
          "execution_count": 66
        }
      ]
    },
    {
      "cell_type": "code",
      "metadata": {
        "colab": {
          "base_uri": "https://localhost:8080/",
          "height": 80
        },
        "id": "vlIbVbMcX60D",
        "outputId": "b934787d-a36b-4e37-a9f1-839ec2c0cfaf"
      },
      "source": [
        "df[df[\"Income\"]>upperLimit1]"
      ],
      "execution_count": null,
      "outputs": [
        {
          "output_type": "execute_result",
          "data": {
            "text/html": [
              "<div>\n",
              "<style scoped>\n",
              "    .dataframe tbody tr th:only-of-type {\n",
              "        vertical-align: middle;\n",
              "    }\n",
              "\n",
              "    .dataframe tbody tr th {\n",
              "        vertical-align: top;\n",
              "    }\n",
              "\n",
              "    .dataframe thead th {\n",
              "        text-align: right;\n",
              "    }\n",
              "</style>\n",
              "<table border=\"1\" class=\"dataframe\">\n",
              "  <thead>\n",
              "    <tr style=\"text-align: right;\">\n",
              "      <th></th>\n",
              "      <th>Region</th>\n",
              "      <th>Age</th>\n",
              "      <th>Income</th>\n",
              "      <th>Online Shopper</th>\n",
              "      <th>Passport</th>\n",
              "      <th>Health</th>\n",
              "      <th>Food</th>\n",
              "    </tr>\n",
              "  </thead>\n",
              "  <tbody>\n",
              "    <tr>\n",
              "      <th>11</th>\n",
              "      <td>Brazil</td>\n",
              "      <td>32.0</td>\n",
              "      <td>157600.0</td>\n",
              "      <td>Yes</td>\n",
              "      <td>yes</td>\n",
              "      <td>1</td>\n",
              "      <td>veg</td>\n",
              "    </tr>\n",
              "  </tbody>\n",
              "</table>\n",
              "</div>"
            ],
            "text/plain": [
              "    Region   Age    Income Online Shopper Passport  Health Food\n",
              "11  Brazil  32.0  157600.0            Yes      yes       1  veg"
            ]
          },
          "metadata": {},
          "execution_count": 67
        }
      ]
    },
    {
      "cell_type": "code",
      "metadata": {
        "colab": {
          "base_uri": "https://localhost:8080/"
        },
        "id": "XMi-ajAhXNE6",
        "outputId": "041cb614-80e2-4270-9ace-446938d138ea"
      },
      "source": [
        "lowerLimit2=df[\"Health\"].quantile(0.05)\n",
        "lowerLimit2"
      ],
      "execution_count": null,
      "outputs": [
        {
          "output_type": "execute_result",
          "data": {
            "text/plain": [
              "1.0"
            ]
          },
          "metadata": {},
          "execution_count": 68
        }
      ]
    },
    {
      "cell_type": "code",
      "metadata": {
        "id": "FZFOqm64gmlV"
      },
      "source": [
        ""
      ],
      "execution_count": null,
      "outputs": []
    },
    {
      "cell_type": "code",
      "metadata": {
        "colab": {
          "base_uri": "https://localhost:8080/"
        },
        "id": "uuWEjgxPXzO3",
        "outputId": "d27a2655-3e13-4fc3-92fe-c430207615e1"
      },
      "source": [
        "upperLimit2=df[\"Health\"].quantile(0.95)\n",
        "upperLimit2"
      ],
      "execution_count": null,
      "outputs": [
        {
          "output_type": "execute_result",
          "data": {
            "text/plain": [
              "3.0"
            ]
          },
          "metadata": {},
          "execution_count": 69
        }
      ]
    },
    {
      "cell_type": "code",
      "metadata": {
        "colab": {
          "base_uri": "https://localhost:8080/",
          "height": 49
        },
        "id": "ScPNzW9PX22M",
        "outputId": "002526f3-a251-4c68-c546-03fbbad629e4"
      },
      "source": [
        "df[df[\"Health\"]<lowerLimit2]"
      ],
      "execution_count": null,
      "outputs": [
        {
          "output_type": "execute_result",
          "data": {
            "text/html": [
              "<div>\n",
              "<style scoped>\n",
              "    .dataframe tbody tr th:only-of-type {\n",
              "        vertical-align: middle;\n",
              "    }\n",
              "\n",
              "    .dataframe tbody tr th {\n",
              "        vertical-align: top;\n",
              "    }\n",
              "\n",
              "    .dataframe thead th {\n",
              "        text-align: right;\n",
              "    }\n",
              "</style>\n",
              "<table border=\"1\" class=\"dataframe\">\n",
              "  <thead>\n",
              "    <tr style=\"text-align: right;\">\n",
              "      <th></th>\n",
              "      <th>Region</th>\n",
              "      <th>Age</th>\n",
              "      <th>Income</th>\n",
              "      <th>Online Shopper</th>\n",
              "      <th>Passport</th>\n",
              "      <th>Health</th>\n",
              "      <th>Food</th>\n",
              "    </tr>\n",
              "  </thead>\n",
              "  <tbody>\n",
              "  </tbody>\n",
              "</table>\n",
              "</div>"
            ],
            "text/plain": [
              "Empty DataFrame\n",
              "Columns: [Region, Age, Income, Online Shopper, Passport, Health, Food]\n",
              "Index: []"
            ]
          },
          "metadata": {},
          "execution_count": 70
        }
      ]
    },
    {
      "cell_type": "code",
      "metadata": {
        "colab": {
          "base_uri": "https://localhost:8080/",
          "height": 49
        },
        "id": "MvOTmIKLYlp4",
        "outputId": "a7b309f4-7b98-43f9-ec3c-36789e2f2218"
      },
      "source": [
        "df[df[\"Health\"]>upperLimit2]"
      ],
      "execution_count": null,
      "outputs": [
        {
          "output_type": "execute_result",
          "data": {
            "text/html": [
              "<div>\n",
              "<style scoped>\n",
              "    .dataframe tbody tr th:only-of-type {\n",
              "        vertical-align: middle;\n",
              "    }\n",
              "\n",
              "    .dataframe tbody tr th {\n",
              "        vertical-align: top;\n",
              "    }\n",
              "\n",
              "    .dataframe thead th {\n",
              "        text-align: right;\n",
              "    }\n",
              "</style>\n",
              "<table border=\"1\" class=\"dataframe\">\n",
              "  <thead>\n",
              "    <tr style=\"text-align: right;\">\n",
              "      <th></th>\n",
              "      <th>Region</th>\n",
              "      <th>Age</th>\n",
              "      <th>Income</th>\n",
              "      <th>Online Shopper</th>\n",
              "      <th>Passport</th>\n",
              "      <th>Health</th>\n",
              "      <th>Food</th>\n",
              "    </tr>\n",
              "  </thead>\n",
              "  <tbody>\n",
              "  </tbody>\n",
              "</table>\n",
              "</div>"
            ],
            "text/plain": [
              "Empty DataFrame\n",
              "Columns: [Region, Age, Income, Online Shopper, Passport, Health, Food]\n",
              "Index: []"
            ]
          },
          "metadata": {},
          "execution_count": 71
        }
      ]
    },
    {
      "cell_type": "markdown",
      "metadata": {
        "id": "N9FUG1lPZSsI"
      },
      "source": [
        "**(g) Changing Datatype**"
      ]
    },
    {
      "cell_type": "code",
      "metadata": {
        "colab": {
          "base_uri": "https://localhost:8080/"
        },
        "id": "z3-fhjBgZZ2J",
        "outputId": "d10f0672-523c-47ca-8c86-5447abea555f"
      },
      "source": [
        "df[\"Age\"].dtype"
      ],
      "execution_count": null,
      "outputs": [
        {
          "output_type": "execute_result",
          "data": {
            "text/plain": [
              "dtype('float64')"
            ]
          },
          "metadata": {},
          "execution_count": 75
        }
      ]
    },
    {
      "cell_type": "code",
      "metadata": {
        "colab": {
          "base_uri": "https://localhost:8080/"
        },
        "id": "7T4QD3a2cPqD",
        "outputId": "ea0d59e1-01f9-448a-e7bc-750e4f4ca725"
      },
      "source": [
        "print(df[\"Age\"].astype('int64'))"
      ],
      "execution_count": null,
      "outputs": [
        {
          "output_type": "stream",
          "name": "stdout",
          "text": [
            "0     49\n",
            "1     32\n",
            "2     35\n",
            "3     43\n",
            "4     45\n",
            "5     40\n",
            "6     44\n",
            "7     53\n",
            "8     55\n",
            "9     42\n",
            "10    49\n",
            "11    32\n",
            "12    35\n",
            "13    43\n",
            "14    44\n",
            "15    53\n",
            "16    49\n",
            "17    55\n",
            "18    44\n",
            "Name: Age, dtype: int64\n"
          ]
        }
      ]
    },
    {
      "cell_type": "code",
      "metadata": {
        "colab": {
          "base_uri": "https://localhost:8080/"
        },
        "id": "Ps7iyyBYc-er",
        "outputId": "a368c8cc-047e-46f9-b71b-8ae4797d3cc6"
      },
      "source": [
        "df[\"Health\"].dtype"
      ],
      "execution_count": null,
      "outputs": [
        {
          "output_type": "execute_result",
          "data": {
            "text/plain": [
              "dtype('int64')"
            ]
          },
          "metadata": {},
          "execution_count": 78
        }
      ]
    },
    {
      "cell_type": "code",
      "metadata": {
        "colab": {
          "base_uri": "https://localhost:8080/"
        },
        "id": "0n2pmitkds1C",
        "outputId": "0f13cfac-a988-4aae-a9b3-ef62343c7fca"
      },
      "source": [
        "print(df[\"Health\"].astype('float64'))"
      ],
      "execution_count": null,
      "outputs": [
        {
          "output_type": "stream",
          "name": "stdout",
          "text": [
            "0     1.0\n",
            "1     2.0\n",
            "2     3.0\n",
            "3     2.0\n",
            "4     2.0\n",
            "5     3.0\n",
            "6     3.0\n",
            "7     3.0\n",
            "8     1.0\n",
            "9     2.0\n",
            "10    2.0\n",
            "11    1.0\n",
            "12    1.0\n",
            "13    2.0\n",
            "14    3.0\n",
            "15    3.0\n",
            "16    1.0\n",
            "17    1.0\n",
            "18    2.0\n",
            "Name: Health, dtype: float64\n"
          ]
        }
      ]
    },
    {
      "cell_type": "code",
      "metadata": {
        "colab": {
          "base_uri": "https://localhost:8080/"
        },
        "id": "_Sfd0zxSd0Ol",
        "outputId": "747d7f4f-81d6-4b8d-e6f0-50ab60643a55"
      },
      "source": [
        "df[\"Income\"].dtype"
      ],
      "execution_count": null,
      "outputs": [
        {
          "output_type": "execute_result",
          "data": {
            "text/plain": [
              "dtype('float64')"
            ]
          },
          "metadata": {},
          "execution_count": 80
        }
      ]
    },
    {
      "cell_type": "code",
      "metadata": {
        "colab": {
          "base_uri": "https://localhost:8080/"
        },
        "id": "bdhnVnXqd5IF",
        "outputId": "4def0eac-15d4-4f24-994f-1474ac0bdaa4"
      },
      "source": [
        "print(df[\"Income\"].astype('int64'))"
      ],
      "execution_count": null,
      "outputs": [
        {
          "output_type": "stream",
          "name": "stdout",
          "text": [
            "0      86400\n",
            "1      57600\n",
            "2      64800\n",
            "3      73200\n",
            "4      82022\n",
            "5      69600\n",
            "6      62400\n",
            "7      94800\n",
            "8      99600\n",
            "9      80400\n",
            "10     86400\n",
            "11    157600\n",
            "12     64800\n",
            "13     73200\n",
            "14     62400\n",
            "15     94800\n",
            "16     86400\n",
            "17     99600\n",
            "18     62400\n",
            "Name: Income, dtype: int64\n"
          ]
        }
      ]
    },
    {
      "cell_type": "code",
      "metadata": {
        "id": "l9K0pU7IeB32"
      },
      "source": [
        ""
      ],
      "execution_count": null,
      "outputs": []
    }
  ]
}