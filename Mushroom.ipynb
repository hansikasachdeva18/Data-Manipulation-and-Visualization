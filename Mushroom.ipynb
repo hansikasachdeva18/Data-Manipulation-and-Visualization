{
 "cells": [
  {
   "cell_type": "markdown",
   "metadata": {
    "id": "TOixClHVuLiB"
   },
   "source": [
    "**IMPORTING LIBRARIES**"
   ]
  },
  {
   "cell_type": "code",
   "execution_count": 1,
   "metadata": {
    "id": "hKVPzPp-M20h"
   },
   "outputs": [],
   "source": [
    "import pandas as pd\n",
    "import numpy as np\n",
    "import matplotlib.pyplot as plt\n",
    "import seaborn as sns\n",
    "from sklearn.impute import SimpleImputer\n",
    "from sklearn.preprocessing import LabelEncoder\n",
    "from sklearn.model_selection import train_test_split\n",
    "from sklearn.preprocessing import StandardScaler\n",
    "from sklearn.preprocessing import MinMaxScaler"
   ]
  },
  {
   "cell_type": "markdown",
   "metadata": {
    "id": "y1COmTZzuClw"
   },
   "source": [
    "**UPLOADING FILE**"
   ]
  },
  {
   "cell_type": "code",
   "execution_count": 2,
   "metadata": {
    "colab": {
     "base_uri": "https://localhost:8080/",
     "height": 73,
     "resources": {
      "http://localhost:8080/nbextensions/google.colab/files.js": {
       "data": "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",
       "headers": [
        [
         "content-type",
         "application/javascript"
        ]
       ],
       "ok": true,
       "status": 200,
       "status_text": ""
      }
     }
    },
    "id": "O1zWUL_PNGKv",
    "outputId": "0ac13071-6a04-46fb-c28c-5a87db7d3fb5"
   },
   "outputs": [
    {
     "data": {
      "text/html": [
       "\n",
       "     <input type=\"file\" id=\"files-9296580d-05a0-4d16-99b4-4f25fc88d6f0\" name=\"files[]\" multiple disabled\n",
       "        style=\"border:none\" />\n",
       "     <output id=\"result-9296580d-05a0-4d16-99b4-4f25fc88d6f0\">\n",
       "      Upload widget is only available when the cell has been executed in the\n",
       "      current browser session. Please rerun this cell to enable.\n",
       "      </output>\n",
       "      <script src=\"/nbextensions/google.colab/files.js\"></script> "
      ],
      "text/plain": [
       "<IPython.core.display.HTML object>"
      ]
     },
     "metadata": {},
     "output_type": "display_data"
    },
    {
     "name": "stdout",
     "output_type": "stream",
     "text": [
      "Saving mushrom (1).csv to mushrom (1).csv\n"
     ]
    }
   ],
   "source": [
    "from google.colab import files\n",
    "uploaded=files.upload()\n"
   ]
  },
  {
   "cell_type": "code",
   "execution_count": 3,
   "metadata": {
    "colab": {
     "base_uri": "https://localhost:8080/"
    },
    "id": "oeK9kpGGNHFs",
    "outputId": "eef35aa7-207a-46eb-eabc-51c9cf973453"
   },
   "outputs": [
    {
     "name": "stdout",
     "output_type": "stream",
     "text": [
      "<class 'pandas.core.frame.DataFrame'>\n",
      "RangeIndex: 8123 entries, 0 to 8122\n",
      "Data columns (total 21 columns):\n",
      " #   Column  Non-Null Count  Dtype\n",
      "---  ------  --------------  -----\n",
      " 0   1       8123 non-null   int64\n",
      " 1   1.1     8123 non-null   int64\n",
      " 2   1.2     8123 non-null   int64\n",
      " 3   1.3     8123 non-null   int64\n",
      " 4   1.4     8123 non-null   int64\n",
      " 5   1.5     8123 non-null   int64\n",
      " 6   1.6     8123 non-null   int64\n",
      " 7   2       8123 non-null   int64\n",
      " 8   1.7     8123 non-null   int64\n",
      " 9   1.8     8123 non-null   int64\n",
      " 10  2.1     8123 non-null   int64\n",
      " 11  1.9     8123 non-null   int64\n",
      " 12  1.10    8123 non-null   int64\n",
      " 13  1.11    8123 non-null   int64\n",
      " 14  1.12    8123 non-null   int64\n",
      " 15  1.13    8123 non-null   int64\n",
      " 16  1.14    8123 non-null   int64\n",
      " 17  2.2     8123 non-null   int64\n",
      " 18  1.15    8123 non-null   int64\n",
      " 19  1.16    8123 non-null   int64\n",
      " 20  1.17    8123 non-null   int64\n",
      "dtypes: int64(21)\n",
      "memory usage: 1.3 MB\n"
     ]
    }
   ],
   "source": [
    "df=pd.read_csv(\"/content/mushrom (1).csv\")\n",
    "df.info()"
   ]
  },
  {
   "cell_type": "code",
   "execution_count": 4,
   "metadata": {
    "colab": {
     "base_uri": "https://localhost:8080/"
    },
    "id": "nYCjs6bCOGSl",
    "outputId": "63460703-2467-44e2-9b8c-595e6f53055f"
   },
   "outputs": [
    {
     "name": "stdout",
     "output_type": "stream",
     "text": [
      "   1  1.1  1.2  1.3  1.4  1.5  1.6  ...  1.12  1.13  1.14  2.2  1.15  1.16  1.17\n",
      "0  1    1    2    1    2    1    1  ...     1     1     1    1     3     2    -1\n",
      "1  2    1    3    1    3    1    1  ...     1     1     1    1     3     3    -1\n",
      "2  1    2    3    1    1    1    1  ...     1     1     1    2     1     1     1\n",
      "3  1    1    4    2    4    1    2  ...     1     1     2    1     2     2    -1\n",
      "4  1    2    2    1    2    1    1  ...     1     1     1    2     3     2    -1\n",
      "\n",
      "[5 rows x 21 columns]\n"
     ]
    }
   ],
   "source": [
    "print(df.head())"
   ]
  },
  {
   "cell_type": "markdown",
   "metadata": {
    "id": "GryUtnb4uqMm"
   },
   "source": [
    "**GIVING COLUMN NAMES**"
   ]
  },
  {
   "cell_type": "code",
   "execution_count": 5,
   "metadata": {
    "colab": {
     "base_uri": "https://localhost:8080/",
     "height": 417
    },
    "id": "J3Gfq_lAOqLy",
    "outputId": "d379fbe6-1b6f-420e-a670-4bee7965fa1b"
   },
   "outputs": [
    {
     "data": {
      "text/html": [
       "<div>\n",
       "<style scoped>\n",
       "    .dataframe tbody tr th:only-of-type {\n",
       "        vertical-align: middle;\n",
       "    }\n",
       "\n",
       "    .dataframe tbody tr th {\n",
       "        vertical-align: top;\n",
       "    }\n",
       "\n",
       "    .dataframe thead th {\n",
       "        text-align: right;\n",
       "    }\n",
       "</style>\n",
       "<table border=\"1\" class=\"dataframe\">\n",
       "  <thead>\n",
       "    <tr style=\"text-align: right;\">\n",
       "      <th></th>\n",
       "      <th>A</th>\n",
       "      <th>B</th>\n",
       "      <th>C</th>\n",
       "      <th>D</th>\n",
       "      <th>E</th>\n",
       "      <th>F</th>\n",
       "      <th>G</th>\n",
       "      <th>H</th>\n",
       "      <th>I</th>\n",
       "      <th>J</th>\n",
       "      <th>K</th>\n",
       "      <th>L</th>\n",
       "      <th>M</th>\n",
       "      <th>N</th>\n",
       "      <th>O</th>\n",
       "      <th>P</th>\n",
       "      <th>Q</th>\n",
       "      <th>R</th>\n",
       "      <th>S</th>\n",
       "      <th>T</th>\n",
       "      <th>U</th>\n",
       "    </tr>\n",
       "  </thead>\n",
       "  <tbody>\n",
       "    <tr>\n",
       "      <th>0</th>\n",
       "      <td>1</td>\n",
       "      <td>1</td>\n",
       "      <td>2</td>\n",
       "      <td>1</td>\n",
       "      <td>2</td>\n",
       "      <td>1</td>\n",
       "      <td>1</td>\n",
       "      <td>1</td>\n",
       "      <td>1</td>\n",
       "      <td>1</td>\n",
       "      <td>2</td>\n",
       "      <td>1</td>\n",
       "      <td>1</td>\n",
       "      <td>1</td>\n",
       "      <td>1</td>\n",
       "      <td>1</td>\n",
       "      <td>1</td>\n",
       "      <td>1</td>\n",
       "      <td>3</td>\n",
       "      <td>2</td>\n",
       "      <td>-1</td>\n",
       "    </tr>\n",
       "    <tr>\n",
       "      <th>1</th>\n",
       "      <td>2</td>\n",
       "      <td>1</td>\n",
       "      <td>3</td>\n",
       "      <td>1</td>\n",
       "      <td>3</td>\n",
       "      <td>1</td>\n",
       "      <td>1</td>\n",
       "      <td>1</td>\n",
       "      <td>3</td>\n",
       "      <td>1</td>\n",
       "      <td>2</td>\n",
       "      <td>1</td>\n",
       "      <td>1</td>\n",
       "      <td>1</td>\n",
       "      <td>1</td>\n",
       "      <td>1</td>\n",
       "      <td>1</td>\n",
       "      <td>1</td>\n",
       "      <td>3</td>\n",
       "      <td>3</td>\n",
       "      <td>-1</td>\n",
       "    </tr>\n",
       "    <tr>\n",
       "      <th>2</th>\n",
       "      <td>1</td>\n",
       "      <td>2</td>\n",
       "      <td>3</td>\n",
       "      <td>1</td>\n",
       "      <td>1</td>\n",
       "      <td>1</td>\n",
       "      <td>1</td>\n",
       "      <td>2</td>\n",
       "      <td>3</td>\n",
       "      <td>1</td>\n",
       "      <td>2</td>\n",
       "      <td>1</td>\n",
       "      <td>1</td>\n",
       "      <td>1</td>\n",
       "      <td>1</td>\n",
       "      <td>1</td>\n",
       "      <td>1</td>\n",
       "      <td>2</td>\n",
       "      <td>1</td>\n",
       "      <td>1</td>\n",
       "      <td>1</td>\n",
       "    </tr>\n",
       "    <tr>\n",
       "      <th>3</th>\n",
       "      <td>1</td>\n",
       "      <td>1</td>\n",
       "      <td>4</td>\n",
       "      <td>2</td>\n",
       "      <td>4</td>\n",
       "      <td>1</td>\n",
       "      <td>2</td>\n",
       "      <td>1</td>\n",
       "      <td>1</td>\n",
       "      <td>2</td>\n",
       "      <td>2</td>\n",
       "      <td>1</td>\n",
       "      <td>1</td>\n",
       "      <td>1</td>\n",
       "      <td>1</td>\n",
       "      <td>1</td>\n",
       "      <td>2</td>\n",
       "      <td>1</td>\n",
       "      <td>2</td>\n",
       "      <td>2</td>\n",
       "      <td>-1</td>\n",
       "    </tr>\n",
       "    <tr>\n",
       "      <th>4</th>\n",
       "      <td>1</td>\n",
       "      <td>2</td>\n",
       "      <td>2</td>\n",
       "      <td>1</td>\n",
       "      <td>2</td>\n",
       "      <td>1</td>\n",
       "      <td>1</td>\n",
       "      <td>1</td>\n",
       "      <td>3</td>\n",
       "      <td>1</td>\n",
       "      <td>2</td>\n",
       "      <td>1</td>\n",
       "      <td>1</td>\n",
       "      <td>1</td>\n",
       "      <td>1</td>\n",
       "      <td>1</td>\n",
       "      <td>1</td>\n",
       "      <td>2</td>\n",
       "      <td>3</td>\n",
       "      <td>2</td>\n",
       "      <td>-1</td>\n",
       "    </tr>\n",
       "    <tr>\n",
       "      <th>...</th>\n",
       "      <td>...</td>\n",
       "      <td>...</td>\n",
       "      <td>...</td>\n",
       "      <td>...</td>\n",
       "      <td>...</td>\n",
       "      <td>...</td>\n",
       "      <td>...</td>\n",
       "      <td>...</td>\n",
       "      <td>...</td>\n",
       "      <td>...</td>\n",
       "      <td>...</td>\n",
       "      <td>...</td>\n",
       "      <td>...</td>\n",
       "      <td>...</td>\n",
       "      <td>...</td>\n",
       "      <td>...</td>\n",
       "      <td>...</td>\n",
       "      <td>...</td>\n",
       "      <td>...</td>\n",
       "      <td>...</td>\n",
       "      <td>...</td>\n",
       "    </tr>\n",
       "    <tr>\n",
       "      <th>8118</th>\n",
       "      <td>5</td>\n",
       "      <td>1</td>\n",
       "      <td>1</td>\n",
       "      <td>2</td>\n",
       "      <td>4</td>\n",
       "      <td>2</td>\n",
       "      <td>1</td>\n",
       "      <td>1</td>\n",
       "      <td>11</td>\n",
       "      <td>1</td>\n",
       "      <td>2</td>\n",
       "      <td>1</td>\n",
       "      <td>7</td>\n",
       "      <td>8</td>\n",
       "      <td>4</td>\n",
       "      <td>1</td>\n",
       "      <td>1</td>\n",
       "      <td>8</td>\n",
       "      <td>6</td>\n",
       "      <td>7</td>\n",
       "      <td>-1</td>\n",
       "    </tr>\n",
       "    <tr>\n",
       "      <th>8119</th>\n",
       "      <td>1</td>\n",
       "      <td>1</td>\n",
       "      <td>1</td>\n",
       "      <td>2</td>\n",
       "      <td>4</td>\n",
       "      <td>2</td>\n",
       "      <td>1</td>\n",
       "      <td>1</td>\n",
       "      <td>11</td>\n",
       "      <td>1</td>\n",
       "      <td>2</td>\n",
       "      <td>1</td>\n",
       "      <td>7</td>\n",
       "      <td>8</td>\n",
       "      <td>2</td>\n",
       "      <td>1</td>\n",
       "      <td>1</td>\n",
       "      <td>8</td>\n",
       "      <td>4</td>\n",
       "      <td>7</td>\n",
       "      <td>-1</td>\n",
       "    </tr>\n",
       "    <tr>\n",
       "      <th>8120</th>\n",
       "      <td>4</td>\n",
       "      <td>1</td>\n",
       "      <td>1</td>\n",
       "      <td>2</td>\n",
       "      <td>4</td>\n",
       "      <td>2</td>\n",
       "      <td>1</td>\n",
       "      <td>1</td>\n",
       "      <td>3</td>\n",
       "      <td>1</td>\n",
       "      <td>2</td>\n",
       "      <td>1</td>\n",
       "      <td>7</td>\n",
       "      <td>8</td>\n",
       "      <td>4</td>\n",
       "      <td>1</td>\n",
       "      <td>1</td>\n",
       "      <td>8</td>\n",
       "      <td>6</td>\n",
       "      <td>7</td>\n",
       "      <td>-1</td>\n",
       "    </tr>\n",
       "    <tr>\n",
       "      <th>8121</th>\n",
       "      <td>5</td>\n",
       "      <td>2</td>\n",
       "      <td>1</td>\n",
       "      <td>2</td>\n",
       "      <td>5</td>\n",
       "      <td>1</td>\n",
       "      <td>1</td>\n",
       "      <td>2</td>\n",
       "      <td>8</td>\n",
       "      <td>2</td>\n",
       "      <td>2</td>\n",
       "      <td>4</td>\n",
       "      <td>1</td>\n",
       "      <td>1</td>\n",
       "      <td>1</td>\n",
       "      <td>1</td>\n",
       "      <td>2</td>\n",
       "      <td>4</td>\n",
       "      <td>4</td>\n",
       "      <td>7</td>\n",
       "      <td>1</td>\n",
       "    </tr>\n",
       "    <tr>\n",
       "      <th>8122</th>\n",
       "      <td>1</td>\n",
       "      <td>1</td>\n",
       "      <td>1</td>\n",
       "      <td>2</td>\n",
       "      <td>4</td>\n",
       "      <td>2</td>\n",
       "      <td>1</td>\n",
       "      <td>1</td>\n",
       "      <td>11</td>\n",
       "      <td>1</td>\n",
       "      <td>2</td>\n",
       "      <td>1</td>\n",
       "      <td>7</td>\n",
       "      <td>8</td>\n",
       "      <td>4</td>\n",
       "      <td>1</td>\n",
       "      <td>1</td>\n",
       "      <td>7</td>\n",
       "      <td>6</td>\n",
       "      <td>7</td>\n",
       "      <td>-1</td>\n",
       "    </tr>\n",
       "  </tbody>\n",
       "</table>\n",
       "<p>8123 rows × 21 columns</p>\n",
       "</div>"
      ],
      "text/plain": [
       "      A  B  C  D  E  F  G  H   I  J  K  L  M  N  O  P  Q  R  S  T  U\n",
       "0     1  1  2  1  2  1  1  1   1  1  2  1  1  1  1  1  1  1  3  2 -1\n",
       "1     2  1  3  1  3  1  1  1   3  1  2  1  1  1  1  1  1  1  3  3 -1\n",
       "2     1  2  3  1  1  1  1  2   3  1  2  1  1  1  1  1  1  2  1  1  1\n",
       "3     1  1  4  2  4  1  2  1   1  2  2  1  1  1  1  1  2  1  2  2 -1\n",
       "4     1  2  2  1  2  1  1  1   3  1  2  1  1  1  1  1  1  2  3  2 -1\n",
       "...  .. .. .. .. .. .. .. ..  .. .. .. .. .. .. .. .. .. .. .. .. ..\n",
       "8118  5  1  1  2  4  2  1  1  11  1  2  1  7  8  4  1  1  8  6  7 -1\n",
       "8119  1  1  1  2  4  2  1  1  11  1  2  1  7  8  2  1  1  8  4  7 -1\n",
       "8120  4  1  1  2  4  2  1  1   3  1  2  1  7  8  4  1  1  8  6  7 -1\n",
       "8121  5  2  1  2  5  1  1  2   8  2  2  4  1  1  1  1  2  4  4  7  1\n",
       "8122  1  1  1  2  4  2  1  1  11  1  2  1  7  8  4  1  1  7  6  7 -1\n",
       "\n",
       "[8123 rows x 21 columns]"
      ]
     },
     "execution_count": 5,
     "metadata": {},
     "output_type": "execute_result"
    }
   ],
   "source": [
    "df.columns=['A','B',\"C\",\"D\",\"E\",'F','G',\"H\",\"I\",\"J\",\"K\",\"L\",\"M\",\"N\",\"O\",\"P\",\"Q\",\"R\",\"S\",\"T\",\"U\"]\n",
    "df"
   ]
  },
  {
   "cell_type": "markdown",
   "metadata": {
    "id": "o6xrcdDruaM9"
   },
   "source": [
    "**Checking if it has null values or not**"
   ]
  },
  {
   "cell_type": "code",
   "execution_count": 6,
   "metadata": {
    "colab": {
     "base_uri": "https://localhost:8080/"
    },
    "id": "KVy_AKAVuXkm",
    "outputId": "35fb214d-f0fc-4ba2-d5f4-0232b12fbd60"
   },
   "outputs": [
    {
     "name": "stdout",
     "output_type": "stream",
     "text": [
      "          A      B      C      D      E  ...      Q      R      S      T      U\n",
      "0     False  False  False  False  False  ...  False  False  False  False  False\n",
      "1     False  False  False  False  False  ...  False  False  False  False  False\n",
      "2     False  False  False  False  False  ...  False  False  False  False  False\n",
      "3     False  False  False  False  False  ...  False  False  False  False  False\n",
      "4     False  False  False  False  False  ...  False  False  False  False  False\n",
      "...     ...    ...    ...    ...    ...  ...    ...    ...    ...    ...    ...\n",
      "8118  False  False  False  False  False  ...  False  False  False  False  False\n",
      "8119  False  False  False  False  False  ...  False  False  False  False  False\n",
      "8120  False  False  False  False  False  ...  False  False  False  False  False\n",
      "8121  False  False  False  False  False  ...  False  False  False  False  False\n",
      "8122  False  False  False  False  False  ...  False  False  False  False  False\n",
      "\n",
      "[8123 rows x 21 columns]\n"
     ]
    }
   ],
   "source": [
    "print(df.isnull())"
   ]
  },
  {
   "cell_type": "code",
   "execution_count": 7,
   "metadata": {
    "colab": {
     "base_uri": "https://localhost:8080/"
    },
    "id": "IsRTl4X17Cto",
    "outputId": "fdb7482c-b6c6-4630-8f3a-39caf194a2a2"
   },
   "outputs": [
    {
     "name": "stdout",
     "output_type": "stream",
     "text": [
      "A    0\n",
      "B    0\n",
      "C    0\n",
      "D    0\n",
      "E    0\n",
      "F    0\n",
      "G    0\n",
      "H    0\n",
      "I    0\n",
      "J    0\n",
      "K    0\n",
      "L    0\n",
      "M    0\n",
      "N    0\n",
      "O    0\n",
      "P    0\n",
      "Q    0\n",
      "R    0\n",
      "S    0\n",
      "T    0\n",
      "U    0\n",
      "dtype: int64\n"
     ]
    }
   ],
   "source": [
    "print(df.isnull().sum())"
   ]
  },
  {
   "cell_type": "markdown",
   "metadata": {
    "id": "GnPAbDfBvZbC"
   },
   "source": [
    "**THIS DATASET DOES NOT HAVE ANY NULL VALE**"
   ]
  },
  {
   "cell_type": "code",
   "execution_count": 8,
   "metadata": {
    "colab": {
     "base_uri": "https://localhost:8080/"
    },
    "id": "zDsN2LW0vLUW",
    "outputId": "91667d4d-d772-462d-9bc3-9b34c51b899c"
   },
   "outputs": [
    {
     "name": "stdout",
     "output_type": "stream",
     "text": [
      "(8123, 21)\n"
     ]
    }
   ],
   "source": [
    "print(df.shape)"
   ]
  },
  {
   "cell_type": "code",
   "execution_count": 9,
   "metadata": {
    "colab": {
     "base_uri": "https://localhost:8080/"
    },
    "id": "YetAyyt7vORC",
    "outputId": "c736cdd9-36c1-42d8-ac9c-a64de2aec8b3"
   },
   "outputs": [
    {
     "name": "stdout",
     "output_type": "stream",
     "text": [
      "          A      B      C      D      E  ...      Q      R      S      T      U\n",
      "0     False  False  False  False  False  ...  False  False  False  False  False\n",
      "1     False  False  False  False  False  ...  False  False  False  False  False\n",
      "2     False  False  False  False  False  ...  False  False  False  False  False\n",
      "3     False  False  False  False  False  ...  False  False  False  False  False\n",
      "4     False  False  False  False  False  ...  False  False  False  False  False\n",
      "...     ...    ...    ...    ...    ...  ...    ...    ...    ...    ...    ...\n",
      "8118  False  False  False  False  False  ...  False  False  False  False  False\n",
      "8119  False  False  False  False  False  ...  False  False  False  False  False\n",
      "8120  False  False  False  False  False  ...  False  False  False  False  False\n",
      "8121  False  False  False  False  False  ...  False  False  False  False  False\n",
      "8122  False  False  False  False  False  ...  False  False  False  False  False\n",
      "\n",
      "[8123 rows x 21 columns]\n"
     ]
    }
   ],
   "source": [
    "print(df.isna())"
   ]
  },
  {
   "cell_type": "markdown",
   "metadata": {
    "id": "l6otjf9ovtdA"
   },
   "source": [
    "**Finding Mean**"
   ]
  },
  {
   "cell_type": "code",
   "execution_count": 10,
   "metadata": {
    "colab": {
     "base_uri": "https://localhost:8080/"
    },
    "id": "esvF7uD2vnqh",
    "outputId": "2c3dada6-0b12-4f37-ac23-aa7d8101befb"
   },
   "outputs": [
    {
     "name": "stdout",
     "output_type": "stream",
     "text": [
      "A    2.637819\n",
      "B    1.972055\n",
      "C    3.094300\n",
      "D    1.584513\n",
      "E    5.046288\n",
      "F    1.025853\n",
      "G    1.161517\n",
      "H    1.309122\n",
      "I    5.110304\n",
      "J    1.567278\n",
      "K    2.229964\n",
      "L    1.994706\n",
      "M    2.149821\n",
      "N    2.221224\n",
      "O    1.049243\n",
      "P    1.152161\n",
      "Q    1.696294\n",
      "R    2.703188\n",
      "S    3.690139\n",
      "T    4.041733\n",
      "U   -0.036070\n",
      "dtype: float64\n"
     ]
    }
   ],
   "source": [
    "print(df.mean())"
   ]
  },
  {
   "cell_type": "markdown",
   "metadata": {
    "id": "yQNRpI4Ev7Sy"
   },
   "source": [
    "**Median** "
   ]
  },
  {
   "cell_type": "code",
   "execution_count": 11,
   "metadata": {
    "colab": {
     "base_uri": "https://localhost:8080/"
    },
    "id": "wk9Zctdcv4PL",
    "outputId": "14ea2fae-af0e-465a-c5ef-602c2bac7c78"
   },
   "outputs": [
    {
     "name": "stdout",
     "output_type": "stream",
     "text": [
      "A    2.0\n",
      "B    2.0\n",
      "C    3.0\n",
      "D    2.0\n",
      "E    4.0\n",
      "F    1.0\n",
      "G    1.0\n",
      "H    1.0\n",
      "I    5.0\n",
      "J    2.0\n",
      "K    2.0\n",
      "L    1.0\n",
      "M    1.0\n",
      "N    1.0\n",
      "O    1.0\n",
      "P    1.0\n",
      "Q    2.0\n",
      "R    3.0\n",
      "S    4.0\n",
      "T    5.0\n",
      "U   -1.0\n",
      "dtype: float64\n"
     ]
    }
   ],
   "source": [
    "print(df.median())"
   ]
  },
  {
   "cell_type": "markdown",
   "metadata": {
    "id": "jQlfLydJ_lNN"
   },
   "source": [
    "**Mode**"
   ]
  },
  {
   "cell_type": "code",
   "execution_count": 12,
   "metadata": {
    "colab": {
     "base_uri": "https://localhost:8080/"
    },
    "id": "K4WQhVC3wD89",
    "outputId": "b633f47e-9d9d-43f2-ccd5-181f490cf52b"
   },
   "outputs": [
    {
     "name": "stdout",
     "output_type": "stream",
     "text": [
      "   A  B  C  D  E  F  G  H  I  J  K  L  M  N  O  P  Q  R  S  T  U\n",
      "0  1  2  1  2  4  1  1  1  8  2  2  1  1  1  1  1  1  4  4  5 -1\n"
     ]
    }
   ],
   "source": [
    "from scipy import stats\n",
    "print(df.mode())"
   ]
  },
  {
   "cell_type": "markdown",
   "metadata": {
    "id": "YTGngk0JxqbP"
   },
   "source": [
    "**Variance** "
   ]
  },
  {
   "cell_type": "code",
   "execution_count": 13,
   "metadata": {
    "colab": {
     "base_uri": "https://localhost:8080/"
    },
    "id": "m5cD2vKKxssZ",
    "outputId": "9955c0be-128c-43c7-fc1c-bdf6314303af"
   },
   "outputs": [
    {
     "data": {
      "text/plain": [
       "A    2.524804\n",
       "B    0.601411\n",
       "C    3.068181\n",
       "D    0.242887\n",
       "E    3.836813\n",
       "F    0.025187\n",
       "G    0.135446\n",
       "H    0.213592\n",
       "I    5.600242\n",
       "J    0.245504\n",
       "K    0.318940\n",
       "L    1.777244\n",
       "M    2.444800\n",
       "N    2.832487\n",
       "O    0.119712\n",
       "P    0.276770\n",
       "Q    0.619276\n",
       "R    1.949198\n",
       "S    1.902374\n",
       "T    2.902838\n",
       "U    0.998822\n",
       "dtype: float64"
      ]
     },
     "execution_count": 13,
     "metadata": {},
     "output_type": "execute_result"
    }
   ],
   "source": [
    "import statistics\n",
    "df.var()"
   ]
  },
  {
   "cell_type": "markdown",
   "metadata": {
    "id": "_QwjWn6-xzo-"
   },
   "source": [
    "**Standard Deviation**"
   ]
  },
  {
   "cell_type": "code",
   "execution_count": 14,
   "metadata": {
    "colab": {
     "base_uri": "https://localhost:8080/"
    },
    "id": "LFZjIufgx1xb",
    "outputId": "b055627d-bbe3-4e96-d3d7-70306dc05b58"
   },
   "outputs": [
    {
     "name": "stdout",
     "output_type": "stream",
     "text": [
      "A    1.588963\n",
      "B    0.775507\n",
      "C    1.751622\n",
      "D    0.492836\n",
      "E    1.958778\n",
      "F    0.158705\n",
      "G    0.368030\n",
      "H    0.462160\n",
      "I    2.366483\n",
      "J    0.495483\n",
      "K    0.564747\n",
      "L    1.333133\n",
      "M    1.563586\n",
      "N    1.682999\n",
      "O    0.345995\n",
      "P    0.526090\n",
      "Q    0.786941\n",
      "R    1.396137\n",
      "S    1.379266\n",
      "T    1.703772\n",
      "U    0.999411\n",
      "dtype: float64\n"
     ]
    }
   ],
   "source": [
    "print(df.std()) # numpy"
   ]
  },
  {
   "cell_type": "code",
   "execution_count": 15,
   "metadata": {
    "colab": {
     "base_uri": "https://localhost:8080/"
    },
    "id": "dLr_0X9-x9Pu",
    "outputId": "bc9afc96-ad1f-48d6-ade7-02c5351355b9"
   },
   "outputs": [
    {
     "data": {
      "text/plain": [
       "1.5889633411282282"
      ]
     },
     "execution_count": 15,
     "metadata": {},
     "output_type": "execute_result"
    }
   ],
   "source": [
    "import statistics\n",
    "statistics.stdev(df[\"A\"])"
   ]
  },
  {
   "cell_type": "markdown",
   "metadata": {
    "id": "TYl_rywQyJFJ"
   },
   "source": [
    "**Normal Distribution**"
   ]
  },
  {
   "cell_type": "code",
   "execution_count": 16,
   "metadata": {
    "colab": {
     "base_uri": "https://localhost:8080/"
    },
    "id": "91pW7qa8yAKU",
    "outputId": "a2512e25-f2d5-4bbf-b0d8-c4433b4b6bca"
   },
   "outputs": [
    {
     "name": "stdout",
     "output_type": "stream",
     "text": [
      "277.53738486913795\n",
      "190.98429254784278\n",
      "320.46060600329645\n"
     ]
    }
   ],
   "source": [
    "from numpy.linalg import norm \n",
    "print(norm(df['A']))\n",
    "print(norm(df['B']))\n",
    "print(norm(df['C']))"
   ]
  },
  {
   "cell_type": "markdown",
   "metadata": {
    "id": "dixExwBlybnY"
   },
   "source": [
    "**Uniform Distribution**"
   ]
  },
  {
   "cell_type": "code",
   "execution_count": 17,
   "metadata": {
    "colab": {
     "base_uri": "https://localhost:8080/"
    },
    "id": "8XyFPtN0yT8O",
    "outputId": "530378d2-591a-4e00-effa-752d29a89c47"
   },
   "outputs": [
    {
     "name": "stdout",
     "output_type": "stream",
     "text": [
      "[1.         1.32567106 1.         ... 2.79252753 3.96807917 1.        ]\n",
      "\n",
      "\n",
      "[1.         1.         1.07536946 ... 1.         1.33504411 1.        ]\n",
      "\n",
      "\n",
      "[1.39875827 1.46795796 2.63917809 ... 1.         1.         1.        ]\n",
      "\n",
      "\n",
      "[1.         1.         1.         ... 1.68776679 1.86892766 1.59040376]\n",
      "\n",
      "\n",
      "[1.53383941 2.75503583 1.         ... 1.25382836 3.65570069 3.79709829]\n",
      "\n",
      "\n",
      "[1.         1.         1.         ... 1.68782004 1.         1.83714788]\n",
      "\n",
      "\n",
      "[1. 1. 1. ... 1. 1. 1.]\n",
      "\n",
      "\n",
      "[1.         1.         1.9101822  ... 1.         1.38039399 1.        ]\n",
      "\n",
      "\n",
      "[1.         1.90061805 1.10722314 ... 2.09725785 1.0448501  3.72026809]\n",
      "\n",
      "\n",
      "[1.         1.         1.         ... 1.         1.35126501 1.        ]\n",
      "\n",
      "\n",
      "[1.9356344  1.86241583 1.04812482 ... 1.9358471  1.83143245 1.73854114]\n",
      "\n",
      "\n",
      "[1.         1.         1.         ... 1.         3.51328544 1.        ]\n"
     ]
    }
   ],
   "source": [
    "from scipy.stats import uniform \n",
    "print(np.random.uniform(df['A']))\n",
    "print(\"\\n\")\n",
    "print(np.random.uniform(df['B']))\n",
    "print(\"\\n\")\n",
    "print(np.random.uniform(df['C']))\n",
    "print(\"\\n\")\n",
    "print(np.random.uniform(df['D']))\n",
    "print(\"\\n\")\n",
    "print(np.random.uniform(df['E']))\n",
    "print(\"\\n\")\n",
    "print(np.random.uniform(df['F']))\n",
    "print(\"\\n\")\n",
    "print(np.random.uniform(df['G']))\n",
    "print(\"\\n\")\n",
    "print(np.random.uniform(df['H']))\n",
    "print(\"\\n\")\n",
    "print(np.random.uniform(df['I']))\n",
    "print(\"\\n\")\n",
    "print(np.random.uniform(df['J']))\n",
    "print(\"\\n\")\n",
    "print(np.random.uniform(df['K']))\n",
    "print(\"\\n\")\n",
    "print(np.random.uniform(df['L']))"
   ]
  },
  {
   "cell_type": "markdown",
   "metadata": {
    "id": "W5EvoPk_zHQc"
   },
   "source": [
    "**PLOTS**"
   ]
  },
  {
   "cell_type": "markdown",
   "metadata": {
    "id": "C0z8mvDzzOPy"
   },
   "source": [
    "**DENSITY PLOT** "
   ]
  },
  {
   "cell_type": "code",
   "execution_count": 18,
   "metadata": {
    "colab": {
     "base_uri": "https://localhost:8080/",
     "height": 862
    },
    "id": "Gh8G02MmzOwu",
    "outputId": "96a27629-da1f-4a9d-9186-35a629a765b1"
   },
   "outputs": [
    {
     "data": {
      "text/plain": [
       "array([<matplotlib.axes._subplots.AxesSubplot object at 0x7f6981b5c590>,\n",
       "       <matplotlib.axes._subplots.AxesSubplot object at 0x7f6981b35f50>,\n",
       "       <matplotlib.axes._subplots.AxesSubplot object at 0x7f6981afa590>,\n",
       "       <matplotlib.axes._subplots.AxesSubplot object at 0x7f6981aafc10>,\n",
       "       <matplotlib.axes._subplots.AxesSubplot object at 0x7f6981a742d0>,\n",
       "       <matplotlib.axes._subplots.AxesSubplot object at 0x7f6981a29950>,\n",
       "       <matplotlib.axes._subplots.AxesSubplot object at 0x7f69819d2b10>,\n",
       "       <matplotlib.axes._subplots.AxesSubplot object at 0x7f698199e590>,\n",
       "       <matplotlib.axes._subplots.AxesSubplot object at 0x7f698199e5d0>,\n",
       "       <matplotlib.axes._subplots.AxesSubplot object at 0x7f6981954d50>,\n",
       "       <matplotlib.axes._subplots.AxesSubplot object at 0x7f69818cc910>,\n",
       "       <matplotlib.axes._subplots.AxesSubplot object at 0x7f6981881f10>,\n",
       "       <matplotlib.axes._subplots.AxesSubplot object at 0x7f6981b77a90>,\n",
       "       <matplotlib.axes._subplots.AxesSubplot object at 0x7f69819ab8d0>,\n",
       "       <matplotlib.axes._subplots.AxesSubplot object at 0x7f698182b190>,\n",
       "       <matplotlib.axes._subplots.AxesSubplot object at 0x7f69817e0810>,\n",
       "       <matplotlib.axes._subplots.AxesSubplot object at 0x7f6981795e90>,\n",
       "       <matplotlib.axes._subplots.AxesSubplot object at 0x7f6981758550>,\n",
       "       <matplotlib.axes._subplots.AxesSubplot object at 0x7f698170dbd0>,\n",
       "       <matplotlib.axes._subplots.AxesSubplot object at 0x7f69816ce290>,\n",
       "       <matplotlib.axes._subplots.AxesSubplot object at 0x7f6981685910>],\n",
       "      dtype=object)"
      ]
     },
     "execution_count": 18,
     "metadata": {},
     "output_type": "execute_result"
    },
    {
     "data": {
      "image/png": "[encoded data removed]",
      "text/plain": [
       "<Figure size 720x576 with 21 Axes>"
      ]
     },
     "metadata": {
      "needs_background": "light"
     },
     "output_type": "display_data"
    }
   ],
   "source": [
    "\n",
    "df.plot(kind='density',subplots=True,sharex=False,figsize=(10,8))\n",
    "\n"
   ]
  },
  {
   "cell_type": "markdown",
   "metadata": {
    "id": "g4633Y2fzkcy"
   },
   "source": [
    "# Bar Diagrams"
   ]
  },
  {
   "cell_type": "code",
   "execution_count": 37,
   "metadata": {
    "colab": {
     "base_uri": "https://localhost:8080/",
     "height": 282
    },
    "id": "2b5xvRQwzRP7",
    "outputId": "e7114f06-d109-44b4-e535-8e5a8b0aa83f"
   },
   "outputs": [
    {
     "data": {
      "text/plain": [
       "<matplotlib.axes._subplots.AxesSubplot at 0x7f697c627f10>"
      ]
     },
     "execution_count": 37,
     "metadata": {},
     "output_type": "execute_result"
    },
    {
     "data": {
      "image/png": "[encoded data removed]",
      "text/plain": [
       "<Figure size 432x288 with 1 Axes>"
      ]
     },
     "metadata": {
      "needs_background": "light"
     },
     "output_type": "display_data"
    }
   ],
   "source": [
    "sns.boxplot(data=df,palette='Set3')"
   ]
  },
  {
   "cell_type": "markdown",
   "metadata": {
    "id": "DE9J_q-C4kKK"
   },
   "source": [
    "# HISTOGRM"
   ]
  },
  {
   "cell_type": "code",
   "execution_count": 20,
   "metadata": {
    "colab": {
     "base_uri": "https://localhost:8080/",
     "height": 936
    },
    "id": "kaSFfNr00SCM",
    "outputId": "e1688181-8037-4727-b773-700f50a25478"
   },
   "outputs": [
    {
     "data": {
      "text/plain": [
       "array([[<matplotlib.axes._subplots.AxesSubplot object at 0x7f697dbc4310>,\n",
       "        <matplotlib.axes._subplots.AxesSubplot object at 0x7f697f3e9b10>,\n",
       "        <matplotlib.axes._subplots.AxesSubplot object at 0x7f697f322c90>,\n",
       "        <matplotlib.axes._subplots.AxesSubplot object at 0x7f697ee399d0>,\n",
       "        <matplotlib.axes._subplots.AxesSubplot object at 0x7f697ee3b050>],\n",
       "       [<matplotlib.axes._subplots.AxesSubplot object at 0x7f697db26610>,\n",
       "        <matplotlib.axes._subplots.AxesSubplot object at 0x7f697dad7d10>,\n",
       "        <matplotlib.axes._subplots.AxesSubplot object at 0x7f697da96310>,\n",
       "        <matplotlib.axes._subplots.AxesSubplot object at 0x7f697da96350>,\n",
       "        <matplotlib.axes._subplots.AxesSubplot object at 0x7f697da48ad0>],\n",
       "       [<matplotlib.axes._subplots.AxesSubplot object at 0x7f697d9b9710>,\n",
       "        <matplotlib.axes._subplots.AxesSubplot object at 0x7f697d9ead90>,\n",
       "        <matplotlib.axes._subplots.AxesSubplot object at 0x7f697d9ae450>,\n",
       "        <matplotlib.axes._subplots.AxesSubplot object at 0x7f697d965ad0>,\n",
       "        <matplotlib.axes._subplots.AxesSubplot object at 0x7f697d928190>],\n",
       "       [<matplotlib.axes._subplots.AxesSubplot object at 0x7f697d8dd810>,\n",
       "        <matplotlib.axes._subplots.AxesSubplot object at 0x7f697d893e90>,\n",
       "        <matplotlib.axes._subplots.AxesSubplot object at 0x7f697d855550>,\n",
       "        <matplotlib.axes._subplots.AxesSubplot object at 0x7f697d80cbd0>,\n",
       "        <matplotlib.axes._subplots.AxesSubplot object at 0x7f697d7cf290>],\n",
       "       [<matplotlib.axes._subplots.AxesSubplot object at 0x7f697d784910>,\n",
       "        <matplotlib.axes._subplots.AxesSubplot object at 0x7f697d73df90>,\n",
       "        <matplotlib.axes._subplots.AxesSubplot object at 0x7f697d6fe650>,\n",
       "        <matplotlib.axes._subplots.AxesSubplot object at 0x7f697d6b5cd0>,\n",
       "        <matplotlib.axes._subplots.AxesSubplot object at 0x7f697d675390>]],\n",
       "      dtype=object)"
      ]
     },
     "execution_count": 20,
     "metadata": {},
     "output_type": "execute_result"
    },
    {
     "data": {
      "image/png": "[encoded data removed]",
      "text/plain": [
       "<Figure size 720x576 with 25 Axes>"
      ]
     },
     "metadata": {
      "needs_background": "light"
     },
     "output_type": "display_data"
    }
   ],
   "source": [
    "df.hist(alpha=.8, figsize=(10,8))"
   ]
  },
  {
   "cell_type": "markdown",
   "metadata": {
    "id": "w9KM7_fo4oAH"
   },
   "source": [
    "# DENSITY PLOT"
   ]
  },
  {
   "cell_type": "code",
   "execution_count": 21,
   "metadata": {
    "colab": {
     "base_uri": "https://localhost:8080/",
     "height": 862
    },
    "id": "WyFrpdvi3HQn",
    "outputId": "0561e9dc-138d-40ff-ec62-f43b5ff3a799"
   },
   "outputs": [
    {
     "data": {
      "text/plain": [
       "array([<matplotlib.axes._subplots.AxesSubplot object at 0x7f697d9d1f90>,\n",
       "       <matplotlib.axes._subplots.AxesSubplot object at 0x7f697f3f6690>,\n",
       "       <matplotlib.axes._subplots.AxesSubplot object at 0x7f697d97e190>,\n",
       "       <matplotlib.axes._subplots.AxesSubplot object at 0x7f697d80c510>,\n",
       "       <matplotlib.axes._subplots.AxesSubplot object at 0x7f697d6884d0>,\n",
       "       <matplotlib.axes._subplots.AxesSubplot object at 0x7f697d3c4710>,\n",
       "       <matplotlib.axes._subplots.AxesSubplot object at 0x7f697d15c550>,\n",
       "       <matplotlib.axes._subplots.AxesSubplot object at 0x7f697d112b10>,\n",
       "       <matplotlib.axes._subplots.AxesSubplot object at 0x7f697d112b50>,\n",
       "       <matplotlib.axes._subplots.AxesSubplot object at 0x7f697d0d5310>,\n",
       "       <matplotlib.axes._subplots.AxesSubplot object at 0x7f697d03ff10>,\n",
       "       <matplotlib.axes._subplots.AxesSubplot object at 0x7f697d0035d0>,\n",
       "       <matplotlib.axes._subplots.AxesSubplot object at 0x7f697cfb8c50>,\n",
       "       <matplotlib.axes._subplots.AxesSubplot object at 0x7f697cf83590>,\n",
       "       <matplotlib.axes._subplots.AxesSubplot object at 0x7f697cf379d0>,\n",
       "       <matplotlib.axes._subplots.AxesSubplot object at 0x7f697cf60b90>,\n",
       "       <matplotlib.axes._subplots.AxesSubplot object at 0x7f697cf2d710>,\n",
       "       <matplotlib.axes._subplots.AxesSubplot object at 0x7f697cee1d90>,\n",
       "       <matplotlib.axes._subplots.AxesSubplot object at 0x7f697cea5450>,\n",
       "       <matplotlib.axes._subplots.AxesSubplot object at 0x7f697ce5aad0>,\n",
       "       <matplotlib.axes._subplots.AxesSubplot object at 0x7f697ce1d190>],\n",
       "      dtype=object)"
      ]
     },
     "execution_count": 21,
     "metadata": {},
     "output_type": "execute_result"
    },
    {
     "data": {
      "image/png": "[encoded data removed]",
      "text/plain": [
       "<Figure size 720x576 with 21 Axes>"
      ]
     },
     "metadata": {
      "needs_background": "light"
     },
     "output_type": "display_data"
    }
   ],
   "source": [
    "df.plot(kind='density',subplots=True,sharex=False,figsize=(10,8))"
   ]
  },
  {
   "cell_type": "markdown",
   "metadata": {
    "id": "DZDcDAh244db"
   },
   "source": [
    "**BOX PLOT**"
   ]
  },
  {
   "cell_type": "code",
   "execution_count": 22,
   "metadata": {
    "colab": {
     "base_uri": "https://localhost:8080/",
     "height": 350
    },
    "id": "iGcl-utT4zBX",
    "outputId": "5c848fde-4b4c-410a-f2ab-c4e7fd683859"
   },
   "outputs": [
    {
     "name": "stderr",
     "output_type": "stream",
     "text": [
      "/usr/local/lib/python3.7/dist-packages/seaborn/_decorators.py:43: FutureWarning: Pass the following variable as a keyword arg: x. From version 0.12, the only valid positional argument will be `data`, and passing other arguments without an explicit keyword will result in an error or misinterpretation.\n",
      "  FutureWarning\n"
     ]
    },
    {
     "data": {
      "text/plain": [
       "<matplotlib.axes._subplots.AxesSubplot at 0x7f697ca32590>"
      ]
     },
     "execution_count": 22,
     "metadata": {},
     "output_type": "execute_result"
    },
    {
     "data": {
      "image/png": "[encoded data removed]",
      "text/plain": [
       "<Figure size 432x288 with 1 Axes>"
      ]
     },
     "metadata": {
      "needs_background": "light"
     },
     "output_type": "display_data"
    }
   ],
   "source": [
    "sns.boxplot(df.A)"
   ]
  },
  {
   "cell_type": "code",
   "execution_count": 23,
   "metadata": {
    "colab": {
     "base_uri": "https://localhost:8080/",
     "height": 350
    },
    "id": "mHp3MXUG476Y",
    "outputId": "d74d9128-8a38-4021-a33a-e14c86fcce21"
   },
   "outputs": [
    {
     "name": "stderr",
     "output_type": "stream",
     "text": [
      "/usr/local/lib/python3.7/dist-packages/seaborn/_decorators.py:43: FutureWarning: Pass the following variable as a keyword arg: x. From version 0.12, the only valid positional argument will be `data`, and passing other arguments without an explicit keyword will result in an error or misinterpretation.\n",
      "  FutureWarning\n"
     ]
    },
    {
     "data": {
      "text/plain": [
       "<matplotlib.axes._subplots.AxesSubplot at 0x7f697c9b0510>"
      ]
     },
     "execution_count": 23,
     "metadata": {},
     "output_type": "execute_result"
    },
    {
     "data": {
      "image/png": "[encoded data removed]",
      "text/plain": [
       "<Figure size 432x288 with 1 Axes>"
      ]
     },
     "metadata": {
      "needs_background": "light"
     },
     "output_type": "display_data"
    }
   ],
   "source": [
    "sns.boxplot(df.B)\n"
   ]
  },
  {
   "cell_type": "code",
   "execution_count": 24,
   "metadata": {
    "colab": {
     "base_uri": "https://localhost:8080/",
     "height": 350
    },
    "id": "txWDaB2V5BOB",
    "outputId": "9238596c-98e1-49f0-a711-102de7412ecc"
   },
   "outputs": [
    {
     "name": "stderr",
     "output_type": "stream",
     "text": [
      "/usr/local/lib/python3.7/dist-packages/seaborn/_decorators.py:43: FutureWarning: Pass the following variable as a keyword arg: x. From version 0.12, the only valid positional argument will be `data`, and passing other arguments without an explicit keyword will result in an error or misinterpretation.\n",
      "  FutureWarning\n"
     ]
    },
    {
     "data": {
      "text/plain": [
       "<matplotlib.axes._subplots.AxesSubplot at 0x7f697c9a54d0>"
      ]
     },
     "execution_count": 24,
     "metadata": {},
     "output_type": "execute_result"
    },
    {
     "data": {
      "image/png": "[encoded data removed]",
      "text/plain": [
       "<Figure size 432x288 with 1 Axes>"
      ]
     },
     "metadata": {
      "needs_background": "light"
     },
     "output_type": "display_data"
    }
   ],
   "source": [
    "sns.boxplot(df.C)"
   ]
  },
  {
   "cell_type": "code",
   "execution_count": 25,
   "metadata": {
    "colab": {
     "base_uri": "https://localhost:8080/",
     "height": 350
    },
    "id": "mNm71Dtf5D5Y",
    "outputId": "2f2af4f8-36fc-495e-c95c-6dac1f3919cc"
   },
   "outputs": [
    {
     "name": "stderr",
     "output_type": "stream",
     "text": [
      "/usr/local/lib/python3.7/dist-packages/seaborn/_decorators.py:43: FutureWarning: Pass the following variable as a keyword arg: x. From version 0.12, the only valid positional argument will be `data`, and passing other arguments without an explicit keyword will result in an error or misinterpretation.\n",
      "  FutureWarning\n"
     ]
    },
    {
     "data": {
      "text/plain": [
       "<matplotlib.axes._subplots.AxesSubplot at 0x7f697c905250>"
      ]
     },
     "execution_count": 25,
     "metadata": {},
     "output_type": "execute_result"
    },
    {
     "data": {
      "image/png": "[encoded data removed]",
      "text/plain": [
       "<Figure size 432x288 with 1 Axes>"
      ]
     },
     "metadata": {
      "needs_background": "light"
     },
     "output_type": "display_data"
    }
   ],
   "source": [
    "sns.boxplot(df.D)"
   ]
  },
  {
   "cell_type": "code",
   "execution_count": 26,
   "metadata": {
    "colab": {
     "base_uri": "https://localhost:8080/",
     "height": 350
    },
    "id": "lz76NUjx5LzI",
    "outputId": "cc08dd62-0533-4512-98a3-b072c82b3e52"
   },
   "outputs": [
    {
     "name": "stderr",
     "output_type": "stream",
     "text": [
      "/usr/local/lib/python3.7/dist-packages/seaborn/_decorators.py:43: FutureWarning: Pass the following variable as a keyword arg: x. From version 0.12, the only valid positional argument will be `data`, and passing other arguments without an explicit keyword will result in an error or misinterpretation.\n",
      "  FutureWarning\n"
     ]
    },
    {
     "data": {
      "text/plain": [
       "<matplotlib.axes._subplots.AxesSubplot at 0x7f697c876c90>"
      ]
     },
     "execution_count": 26,
     "metadata": {},
     "output_type": "execute_result"
    },
    {
     "data": {
      "image/png": "[encoded data removed]",
      "text/plain": [
       "<Figure size 432x288 with 1 Axes>"
      ]
     },
     "metadata": {
      "needs_background": "light"
     },
     "output_type": "display_data"
    }
   ],
   "source": [
    "sns.boxplot(df.E)"
   ]
  },
  {
   "cell_type": "markdown",
   "metadata": {
    "id": "zS_X2S5r5bpC"
   },
   "source": [
    "#LINE CHART"
   ]
  },
  {
   "cell_type": "code",
   "execution_count": 27,
   "metadata": {
    "colab": {
     "base_uri": "https://localhost:8080/",
     "height": 282
    },
    "id": "0Eu7WBPC5TsB",
    "outputId": "c69c97d3-4ace-40ce-d004-c8aef1d10eaf"
   },
   "outputs": [
    {
     "data": {
      "text/plain": [
       "<matplotlib.axes._subplots.AxesSubplot at 0x7f697c9c4f90>"
      ]
     },
     "execution_count": 27,
     "metadata": {},
     "output_type": "execute_result"
    },
    {
     "data": {
      "image/png": "[encoded data removed]",
      "text/plain": [
       "<Figure size 432x288 with 1 Axes>"
      ]
     },
     "metadata": {
      "needs_background": "light"
     },
     "output_type": "display_data"
    }
   ],
   "source": [
    "import matplotlib.pyplot as plot\n",
    "df.plot.line(y=\"A\")"
   ]
  },
  {
   "cell_type": "code",
   "execution_count": 28,
   "metadata": {
    "colab": {
     "base_uri": "https://localhost:8080/",
     "height": 282
    },
    "id": "gY9yB-LS5gj6",
    "outputId": "de63a7f5-025d-4e74-b046-eda92ac12c78"
   },
   "outputs": [
    {
     "data": {
      "text/plain": [
       "<matplotlib.axes._subplots.AxesSubplot at 0x7f697caa4790>"
      ]
     },
     "execution_count": 28,
     "metadata": {},
     "output_type": "execute_result"
    },
    {
     "data": {
      "image/png": "[encoded data removed]",
      "text/plain": [
       "<Figure size 432x288 with 1 Axes>"
      ]
     },
     "metadata": {
      "needs_background": "light"
     },
     "output_type": "display_data"
    }
   ],
   "source": [
    "import matplotlib.pyplot as plot\n",
    "df.plot.line(y=\"B\")"
   ]
  },
  {
   "cell_type": "code",
   "execution_count": 29,
   "metadata": {
    "colab": {
     "base_uri": "https://localhost:8080/",
     "height": 282
    },
    "id": "Bk4co45b5i7q",
    "outputId": "6660aac6-e49d-48ac-8912-3c4d0e930007"
   },
   "outputs": [
    {
     "data": {
      "text/plain": [
       "<matplotlib.axes._subplots.AxesSubplot at 0x7f697cb88a90>"
      ]
     },
     "execution_count": 29,
     "metadata": {},
     "output_type": "execute_result"
    },
    {
     "data": {
      "image/png": "[encoded data removed]",
      "text/plain": [
       "<Figure size 432x288 with 1 Axes>"
      ]
     },
     "metadata": {
      "needs_background": "light"
     },
     "output_type": "display_data"
    }
   ],
   "source": [
    "import matplotlib.pyplot as plot\n",
    "df.plot.line(y=\"C\")"
   ]
  },
  {
   "cell_type": "code",
   "execution_count": 30,
   "metadata": {
    "colab": {
     "base_uri": "https://localhost:8080/",
     "height": 282
    },
    "id": "IbP9O2fM5mv6",
    "outputId": "0531ebe5-030b-4b23-ba3e-2aa3953cb255"
   },
   "outputs": [
    {
     "data": {
      "text/plain": [
       "<matplotlib.axes._subplots.AxesSubplot at 0x7f697c725f90>"
      ]
     },
     "execution_count": 30,
     "metadata": {},
     "output_type": "execute_result"
    },
    {
     "data": {
      "image/png": "[encoded data removed]",
      "text/plain": [
       "<Figure size 432x288 with 1 Axes>"
      ]
     },
     "metadata": {
      "needs_background": "light"
     },
     "output_type": "display_data"
    }
   ],
   "source": [
    "import matplotlib.pyplot as plot\n",
    "df.plot.line(y=\"E\")"
   ]
  },
  {
   "cell_type": "code",
   "execution_count": 31,
   "metadata": {
    "colab": {
     "base_uri": "https://localhost:8080/",
     "height": 282
    },
    "id": "7ZMqRz8N5rUC",
    "outputId": "b4ea19a9-673d-4cbd-e6fb-d0e9d6e02d41"
   },
   "outputs": [
    {
     "data": {
      "text/plain": [
       "<matplotlib.axes._subplots.AxesSubplot at 0x7f697ca41810>"
      ]
     },
     "execution_count": 31,
     "metadata": {},
     "output_type": "execute_result"
    },
    {
     "data": {
      "image/png": "[encoded data removed]",
      "text/plain": [
       "<Figure size 432x288 with 1 Axes>"
      ]
     },
     "metadata": {
      "needs_background": "light"
     },
     "output_type": "display_data"
    }
   ],
   "source": [
    "import matplotlib.pyplot as plot\n",
    "df.plot.line(y=\"D\")"
   ]
  },
  {
   "cell_type": "markdown",
   "metadata": {
    "id": "Zc3mcses6GQ0"
   },
   "source": [
    "# OUTLIERS"
   ]
  },
  {
   "cell_type": "code",
   "execution_count": 32,
   "metadata": {
    "colab": {
     "base_uri": "https://localhost:8080/"
    },
    "id": "CqEkC7i-6NWl",
    "outputId": "55de2e28-c927-488a-9c02-8110acb25ca7"
   },
   "outputs": [
    {
     "data": {
      "text/plain": [
       "1.0"
      ]
     },
     "execution_count": 32,
     "metadata": {},
     "output_type": "execute_result"
    }
   ],
   "source": [
    "lowerLimit=df[\"A\"].quantile(0.05)\n",
    "lowerLimit"
   ]
  },
  {
   "cell_type": "code",
   "execution_count": 33,
   "metadata": {
    "colab": {
     "base_uri": "https://localhost:8080/"
    },
    "id": "xBMLn1zF6Z1E",
    "outputId": "c396ddfe-3abc-4b9e-8976-9326d3b2945d"
   },
   "outputs": [
    {
     "data": {
      "text/plain": [
       "5.0"
      ]
     },
     "execution_count": 33,
     "metadata": {},
     "output_type": "execute_result"
    }
   ],
   "source": [
    "upperLimit=df[\"A\"].quantile(0.95)\n",
    "upperLimit"
   ]
  },
  {
   "cell_type": "code",
   "execution_count": 34,
   "metadata": {
    "colab": {
     "base_uri": "https://localhost:8080/",
     "height": 49
    },
    "id": "EY6PfdFE6evz",
    "outputId": "9142416a-40e2-41bb-ea8a-5efca8535c16"
   },
   "outputs": [
    {
     "data": {
      "text/html": [
       "<div>\n",
       "<style scoped>\n",
       "    .dataframe tbody tr th:only-of-type {\n",
       "        vertical-align: middle;\n",
       "    }\n",
       "\n",
       "    .dataframe tbody tr th {\n",
       "        vertical-align: top;\n",
       "    }\n",
       "\n",
       "    .dataframe thead th {\n",
       "        text-align: right;\n",
       "    }\n",
       "</style>\n",
       "<table border=\"1\" class=\"dataframe\">\n",
       "  <thead>\n",
       "    <tr style=\"text-align: right;\">\n",
       "      <th></th>\n",
       "      <th>A</th>\n",
       "      <th>B</th>\n",
       "      <th>C</th>\n",
       "      <th>D</th>\n",
       "      <th>E</th>\n",
       "      <th>F</th>\n",
       "      <th>G</th>\n",
       "      <th>H</th>\n",
       "      <th>I</th>\n",
       "      <th>J</th>\n",
       "      <th>K</th>\n",
       "      <th>L</th>\n",
       "      <th>M</th>\n",
       "      <th>N</th>\n",
       "      <th>O</th>\n",
       "      <th>P</th>\n",
       "      <th>Q</th>\n",
       "      <th>R</th>\n",
       "      <th>S</th>\n",
       "      <th>T</th>\n",
       "      <th>U</th>\n",
       "    </tr>\n",
       "  </thead>\n",
       "  <tbody>\n",
       "  </tbody>\n",
       "</table>\n",
       "</div>"
      ],
      "text/plain": [
       "Empty DataFrame\n",
       "Columns: [A, B, C, D, E, F, G, H, I, J, K, L, M, N, O, P, Q, R, S, T, U]\n",
       "Index: []"
      ]
     },
     "execution_count": 34,
     "metadata": {},
     "output_type": "execute_result"
    }
   ],
   "source": [
    "df[df[\"A\"]<lowerLimit]"
   ]
  },
  {
   "cell_type": "code",
   "execution_count": 35,
   "metadata": {
    "colab": {
     "base_uri": "https://localhost:8080/",
     "height": 172
    },
    "id": "1mXDiOen6jYE",
    "outputId": "869a27e5-ee1e-4d06-a9e1-205abc404416"
   },
   "outputs": [
    {
     "data": {
      "text/html": [
       "<div>\n",
       "<style scoped>\n",
       "    .dataframe tbody tr th:only-of-type {\n",
       "        vertical-align: middle;\n",
       "    }\n",
       "\n",
       "    .dataframe tbody tr th {\n",
       "        vertical-align: top;\n",
       "    }\n",
       "\n",
       "    .dataframe thead th {\n",
       "        text-align: right;\n",
       "    }\n",
       "</style>\n",
       "<table border=\"1\" class=\"dataframe\">\n",
       "  <thead>\n",
       "    <tr style=\"text-align: right;\">\n",
       "      <th></th>\n",
       "      <th>A</th>\n",
       "      <th>B</th>\n",
       "      <th>C</th>\n",
       "      <th>D</th>\n",
       "      <th>E</th>\n",
       "      <th>F</th>\n",
       "      <th>G</th>\n",
       "      <th>H</th>\n",
       "      <th>I</th>\n",
       "      <th>J</th>\n",
       "      <th>K</th>\n",
       "      <th>L</th>\n",
       "      <th>M</th>\n",
       "      <th>N</th>\n",
       "      <th>O</th>\n",
       "      <th>P</th>\n",
       "      <th>Q</th>\n",
       "      <th>R</th>\n",
       "      <th>S</th>\n",
       "      <th>T</th>\n",
       "      <th>U</th>\n",
       "    </tr>\n",
       "  </thead>\n",
       "  <tbody>\n",
       "    <tr>\n",
       "      <th>5125</th>\n",
       "      <td>6</td>\n",
       "      <td>4</td>\n",
       "      <td>3</td>\n",
       "      <td>1</td>\n",
       "      <td>4</td>\n",
       "      <td>1</td>\n",
       "      <td>2</td>\n",
       "      <td>2</td>\n",
       "      <td>5</td>\n",
       "      <td>1</td>\n",
       "      <td>2</td>\n",
       "      <td>1</td>\n",
       "      <td>1</td>\n",
       "      <td>1</td>\n",
       "      <td>1</td>\n",
       "      <td>1</td>\n",
       "      <td>1</td>\n",
       "      <td>4</td>\n",
       "      <td>6</td>\n",
       "      <td>7</td>\n",
       "      <td>1</td>\n",
       "    </tr>\n",
       "    <tr>\n",
       "      <th>5507</th>\n",
       "      <td>6</td>\n",
       "      <td>2</td>\n",
       "      <td>3</td>\n",
       "      <td>1</td>\n",
       "      <td>4</td>\n",
       "      <td>1</td>\n",
       "      <td>2</td>\n",
       "      <td>2</td>\n",
       "      <td>5</td>\n",
       "      <td>1</td>\n",
       "      <td>2</td>\n",
       "      <td>1</td>\n",
       "      <td>1</td>\n",
       "      <td>1</td>\n",
       "      <td>1</td>\n",
       "      <td>1</td>\n",
       "      <td>1</td>\n",
       "      <td>4</td>\n",
       "      <td>6</td>\n",
       "      <td>7</td>\n",
       "      <td>1</td>\n",
       "    </tr>\n",
       "    <tr>\n",
       "      <th>7400</th>\n",
       "      <td>6</td>\n",
       "      <td>2</td>\n",
       "      <td>2</td>\n",
       "      <td>2</td>\n",
       "      <td>4</td>\n",
       "      <td>1</td>\n",
       "      <td>2</td>\n",
       "      <td>2</td>\n",
       "      <td>11</td>\n",
       "      <td>1</td>\n",
       "      <td>4</td>\n",
       "      <td>3</td>\n",
       "      <td>9</td>\n",
       "      <td>7</td>\n",
       "      <td>3</td>\n",
       "      <td>1</td>\n",
       "      <td>2</td>\n",
       "      <td>4</td>\n",
       "      <td>6</td>\n",
       "      <td>7</td>\n",
       "      <td>1</td>\n",
       "    </tr>\n",
       "    <tr>\n",
       "      <th>7705</th>\n",
       "      <td>6</td>\n",
       "      <td>2</td>\n",
       "      <td>2</td>\n",
       "      <td>2</td>\n",
       "      <td>4</td>\n",
       "      <td>1</td>\n",
       "      <td>2</td>\n",
       "      <td>2</td>\n",
       "      <td>5</td>\n",
       "      <td>1</td>\n",
       "      <td>4</td>\n",
       "      <td>3</td>\n",
       "      <td>9</td>\n",
       "      <td>7</td>\n",
       "      <td>3</td>\n",
       "      <td>1</td>\n",
       "      <td>2</td>\n",
       "      <td>4</td>\n",
       "      <td>6</td>\n",
       "      <td>7</td>\n",
       "      <td>1</td>\n",
       "    </tr>\n",
       "  </tbody>\n",
       "</table>\n",
       "</div>"
      ],
      "text/plain": [
       "      A  B  C  D  E  F  G  H   I  J  K  L  M  N  O  P  Q  R  S  T  U\n",
       "5125  6  4  3  1  4  1  2  2   5  1  2  1  1  1  1  1  1  4  6  7  1\n",
       "5507  6  2  3  1  4  1  2  2   5  1  2  1  1  1  1  1  1  4  6  7  1\n",
       "7400  6  2  2  2  4  1  2  2  11  1  4  3  9  7  3  1  2  4  6  7  1\n",
       "7705  6  2  2  2  4  1  2  2   5  1  4  3  9  7  3  1  2  4  6  7  1"
      ]
     },
     "execution_count": 35,
     "metadata": {},
     "output_type": "execute_result"
    }
   ],
   "source": [
    "df[df[\"A\"]>upperLimit]"
   ]
  },
  {
   "cell_type": "code",
   "execution_count": 36,
   "metadata": {
    "colab": {
     "base_uri": "https://localhost:8080/"
    },
    "id": "83YxENfd3Mkg",
    "outputId": "950ab411-466f-4b52-f041-2fd2bc5ecede"
   },
   "outputs": [
    {
     "name": "stdout",
     "output_type": "stream",
     "text": [
      "        A    B    C    D    E    F    G  ...    O    P    Q    R    S    T    U\n",
      "0     1.0  1.0  2.0  1.0  2.0  1.0  1.0  ...  1.0  1.0  1.0  1.0  3.0  2.0 -1.0\n",
      "1     2.0  1.0  3.0  1.0  3.0  1.0  1.0  ...  1.0  1.0  1.0  1.0  3.0  3.0 -1.0\n",
      "2     1.0  2.0  3.0  1.0  1.0  1.0  1.0  ...  1.0  1.0  1.0  2.0  1.0  1.0  1.0\n",
      "3     1.0  1.0  4.0  2.0  4.0  1.0  2.0  ...  1.0  1.0  2.0  1.0  2.0  2.0 -1.0\n",
      "4     1.0  2.0  2.0  1.0  2.0  1.0  1.0  ...  1.0  1.0  1.0  2.0  3.0  2.0 -1.0\n",
      "...   ...  ...  ...  ...  ...  ...  ...  ...  ...  ...  ...  ...  ...  ...  ...\n",
      "8118  5.0  1.0  1.0  2.0  4.0  2.0  1.0  ...  4.0  1.0  1.0  8.0  6.0  7.0 -1.0\n",
      "8119  1.0  1.0  1.0  2.0  4.0  2.0  1.0  ...  2.0  1.0  1.0  8.0  4.0  7.0 -1.0\n",
      "8120  4.0  1.0  1.0  2.0  4.0  2.0  1.0  ...  4.0  1.0  1.0  8.0  6.0  7.0 -1.0\n",
      "8121  5.0  2.0  1.0  2.0  5.0  1.0  1.0  ...  1.0  1.0  2.0  4.0  4.0  7.0  1.0\n",
      "8122  1.0  1.0  1.0  2.0  4.0  2.0  1.0  ...  4.0  1.0  1.0  7.0  6.0  7.0 -1.0\n",
      "\n",
      "[8123 rows x 21 columns]\n"
     ]
    }
   ],
   "source": [
    "df=df.astype('float64')\n",
    "print(df)"
   ]
  }
 ],
 "metadata": {
  "colab": {
   "collapsed_sections": [
    "g4633Y2fzkcy",
    "DE9J_q-C4kKK",
    "w9KM7_fo4oAH",
    "zS_X2S5r5bpC",
    "Zc3mcses6GQ0"
   ],
   "name": "Lab_1_(b)_E20CSE119_Hansika Sachdeva_EB09.ipynb",
   "provenance": []
  },
  "kernelspec": {
   "display_name": "Python 3",
   "language": "python",
   "name": "python3"
  },
  "language_info": {
   "codemirror_mode": {
    "name": "ipython",
    "version": 3
   },
   "file_extension": ".py",
   "mimetype": "text/x-python",
   "name": "python",
   "nbconvert_exporter": "python",
   "pygments_lexer": "ipython3",
   "version": "3.8.3"
  }
 },
 "nbformat": 4,
 "nbformat_minor": 1
}
